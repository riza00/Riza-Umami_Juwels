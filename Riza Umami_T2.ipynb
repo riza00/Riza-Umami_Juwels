{
 "cells": [
  {
   "cell_type": "markdown",
   "metadata": {
    "id": "F9RmP8oJEr-8"
   },
   "source": [
    "# Pengenalan AI dengan Python\n",
    "Sebelum lanjut, harap:\n",
    "1. Jika menggunakan jupyter, silahkan pilih \"File\" --> \"Download\" --> \"Download .ipynb\"\n",
    "2. Jika menggunakan colab, silahkan pilih \"File\" --> \"Save a copy in drive\""
   ]
  },
  {
   "cell_type": "markdown",
   "metadata": {
    "id": "ttcCioV2TWeK"
   },
   "source": [
    "Materi : \n",
    "1. Reading & Writing File\n",
    "2. Operasi Matematika & Numpy\n",
    "3. Pandas & Statistik Deskriptif\n",
    "4. Library untuk Visualisasi"
   ]
  },
  {
   "cell_type": "markdown",
   "metadata": {
    "id": "WZgEMeZ7JLNm"
   },
   "source": [
    "## Reading & Writing File"
   ]
  },
  {
   "cell_type": "markdown",
   "metadata": {
    "id": "Fnd29cqZ4uTK"
   },
   "source": [
    "### Fungsi 'open'\n",
    "1. Struktur menggunakan \"with\"\n",
    "<img src=\"https://s3-api.us-geo.objectstorage.softlayer.net/cf-courses-data/CognitiveClass/PY0101EN/Chapter%204/Images/ReadWith.png\" width=\"500\" />\n",
    "\n",
    "2. Struktur menggunakan \"file object\"\n",
    "<img src=\"https://s3-api.us-geo.objectstorage.softlayer.net/cf-courses-data/CognitiveClass/PY0101EN/Chapter%204/Images/ReadOpen.png\" width=\"500\" />\n",
    "\n",
    "Keterangan mode:\n",
    "*   Read (kode: **r**) – membaca sebuah file (**r+** artinya sekaligus menulis)\n",
    "*   Write (kode: **w**) – menulis sebuah file (**w+** artinya sekaligus membaca)\n",
    "*   Append (kode: **a**) – menambah isi sebuah file (**a+** artinya sekaligus membaca)\n"
   ]
  },
  {
   "cell_type": "code",
   "execution_count": null,
   "metadata": {
    "id": "O1tkv-JEnLlu"
   },
   "outputs": [],
   "source": [
    "import os\n",
    "#Menambah folder 'latihan' \n",
    "os.makedirs('latihan')"
   ]
  },
  {
   "cell_type": "code",
   "execution_count": null,
   "metadata": {
    "id": "lSms7K9V95BU"
   },
   "outputs": [],
   "source": [
    "#Menulis file baru\n",
    "with open('latihan/contoh.txt', 'w') as c:\n",
    "  c.write('saya keren.')                    #hanya bisa menulis karena modenya \"w\" bukan \"w+\""
   ]
  },
  {
   "cell_type": "code",
   "execution_count": null,
   "metadata": {
    "colab": {
     "base_uri": "https://localhost:8080/",
     "height": 54
    },
    "executionInfo": {
     "elapsed": 300,
     "status": "ok",
     "timestamp": 1631757076931,
     "user": {
      "displayName": "M. Andrian Maulana",
      "photoUrl": "https://lh3.googleusercontent.com/a-/AOh14Ghl3nLZdIh-egjZ-n8ii4XMgtyiwvEDhbJeZetz2Vg=s64",
      "userId": "12143688564040795640"
     },
     "user_tz": -420
    },
    "id": "XOHOWBbZ93KA",
    "outputId": "8f2ff549-5422-4d53-897d-86fa84c37c42"
   },
   "outputs": [],
   "source": [
    "#Membaca file dengan \"with\"\n",
    "with open('latihan/contoh.txt', 'r') as c:\n",
    "    print(c.read())\n",
    "\n",
    "#Membaca file dengan \"file object\"\n",
    "file = open('latihan/contoh.txt', 'r')\n",
    "file.read()"
   ]
  },
  {
   "cell_type": "markdown",
   "metadata": {
    "id": "YfCzYjMsHsPQ"
   },
   "source": [
    "### Membedakan \"write\" dan \"append\""
   ]
  },
  {
   "cell_type": "code",
   "execution_count": null,
   "metadata": {
    "colab": {
     "base_uri": "https://localhost:8080/",
     "height": 37
    },
    "executionInfo": {
     "elapsed": 337,
     "status": "ok",
     "timestamp": 1631757208825,
     "user": {
      "displayName": "M. Andrian Maulana",
      "photoUrl": "https://lh3.googleusercontent.com/a-/AOh14Ghl3nLZdIh-egjZ-n8ii4XMgtyiwvEDhbJeZetz2Vg=s64",
      "userId": "12143688564040795640"
     },
     "user_tz": -420
    },
    "id": "CyviqdwBFkP-",
    "outputId": "c79358be-080f-4691-e9e6-2a371dbb2923"
   },
   "outputs": [],
   "source": [
    "#Append\n",
    "file = open('latihan/contoh.txt', 'a+')\n",
    "file.write(' belajar AI menyenangkan.')\n",
    "file.seek(0)                          #seek(0) artinya mulai dari huruf yang pertama (index 0)\n",
    "file.read()                           #bisa sekaligus read karena modenya \"a+\""
   ]
  },
  {
   "cell_type": "code",
   "execution_count": null,
   "metadata": {
    "colab": {
     "base_uri": "https://localhost:8080/",
     "height": 37
    },
    "executionInfo": {
     "elapsed": 626,
     "status": "ok",
     "timestamp": 1631757278876,
     "user": {
      "displayName": "M. Andrian Maulana",
      "photoUrl": "https://lh3.googleusercontent.com/a-/AOh14Ghl3nLZdIh-egjZ-n8ii4XMgtyiwvEDhbJeZetz2Vg=s64",
      "userId": "12143688564040795640"
     },
     "user_tz": -420
    },
    "id": "gOFk_bC0IA3F",
    "outputId": "46739e4f-3a4c-42df-aff0-64ec6db99b92"
   },
   "outputs": [],
   "source": [
    "#Write\n",
    "file = open('latihan/contoh.txt', 'w+')\n",
    "file.write(' belajar AI menyenangkan.')\n",
    "file.seek(0)                          #seek(0) artinya mulai dari huruf yang pertama (index 0)\n",
    "file.read()                           #bisa sekaligus read karena modenya \"w+\""
   ]
  },
  {
   "cell_type": "markdown",
   "metadata": {
    "id": "ZmKKOMhFIIR_"
   },
   "source": [
    "Bisa kah kamu melihat perbedaannya?"
   ]
  },
  {
   "cell_type": "code",
   "execution_count": null,
   "metadata": {
    "colab": {
     "base_uri": "https://localhost:8080/"
    },
    "executionInfo": {
     "elapsed": 326,
     "status": "ok",
     "timestamp": 1631757341338,
     "user": {
      "displayName": "M. Andrian Maulana",
      "photoUrl": "https://lh3.googleusercontent.com/a-/AOh14Ghl3nLZdIh-egjZ-n8ii4XMgtyiwvEDhbJeZetz2Vg=s64",
      "userId": "12143688564040795640"
     },
     "user_tz": -420
    },
    "id": "7dOhVBlg-acT",
    "outputId": "763bf8d5-50f4-4878-df1e-dd8e91ad38c2"
   },
   "outputs": [],
   "source": [
    "#Mengetahui nama file dan lokasinya\n",
    "print(file.name)\n",
    "\n",
    "#Mengetahui mode dari file\n",
    "print(file.mode)"
   ]
  },
  {
   "cell_type": "markdown",
   "metadata": {
    "id": "oREZu1YaJe4l"
   },
   "source": [
    "### Latihan 1 (menulis file)\n",
    "\n",
    "Buat file baru di folder \"latihan\", namanya \"kata bung karno.txt\". Isinya : \"Bermimpilah setinggi langit. Jika engkau jatuh, kau kan jatuh di antara bintang-bintang. \""
   ]
  },
  {
   "cell_type": "code",
   "execution_count": 1,
   "metadata": {
    "id": "uxPw2hOfLyN4"
   },
   "outputs": [],
   "source": [
    "#Tulis jawabanmu disini\n",
    "with open('latihan/kata bung karno.txt', 'w') as c:\n",
    "  c.write(\"Bermimpilah setinggi langit. Jika engkau jatuh, kau kan jatuh di antara bintang-bintang.\")"
   ]
  },
  {
   "cell_type": "code",
   "execution_count": 2,
   "metadata": {},
   "outputs": [
    {
     "data": {
      "text/plain": [
       "'Bermimpilah setinggi langit. Jika engkau jatuh, kau kan jatuh di antara bintang-bintang.'"
      ]
     },
     "execution_count": 2,
     "metadata": {},
     "output_type": "execute_result"
    }
   ],
   "source": [
    "file = open('latihan/kata bung karno.txt', 'r')\n",
    "file.read()"
   ]
  },
  {
   "cell_type": "markdown",
   "metadata": {
    "id": "-RX-DtsEFC5r"
   },
   "source": [
    "## Operasi Matematika & Numpy\n",
    "Numpy → library untuk membantu operasi matematika di python.\n"
   ]
  },
  {
   "cell_type": "code",
   "execution_count": 4,
   "metadata": {
    "executionInfo": {
     "elapsed": 293,
     "status": "ok",
     "timestamp": 1631765768564,
     "user": {
      "displayName": "Utih Amartiwi",
      "photoUrl": "https://lh3.googleusercontent.com/a/default-user=s64",
      "userId": "10340241124216305303"
     },
     "user_tz": -420
    },
    "id": "DBVuNosPErdc"
   },
   "outputs": [],
   "source": [
    "import numpy as np"
   ]
  },
  {
   "cell_type": "markdown",
   "metadata": {
    "id": "GWGWrUU_QOR6"
   },
   "source": [
    "### Pengenalan array"
   ]
  },
  {
   "cell_type": "code",
   "execution_count": 5,
   "metadata": {
    "colab": {
     "base_uri": "https://localhost:8080/"
    },
    "executionInfo": {
     "elapsed": 270,
     "status": "ok",
     "timestamp": 1631755613819,
     "user": {
      "displayName": "Utih Amartiwi",
      "photoUrl": "https://lh3.googleusercontent.com/a/default-user=s64",
      "userId": "10340241124216305303"
     },
     "user_tz": -420
    },
    "id": "rojHc0kGGJVw",
    "outputId": "f175d62e-140e-4379-d90d-3b0f42b53dac"
   },
   "outputs": [
    {
     "name": "stdout",
     "output_type": "stream",
     "text": [
      "banyaknya entry =  4\n",
      "dimensi array =  1\n",
      "ukuran array =  (4,)\n"
     ]
    }
   ],
   "source": [
    "#1D array\n",
    "a = np.array([3, 1, 5, 6])\n",
    "print('banyaknya entry = ', a.size)\n",
    "print('dimensi array = ', a.ndim)\n",
    "print('ukuran array = ', a.shape)"
   ]
  },
  {
   "cell_type": "code",
   "execution_count": 6,
   "metadata": {
    "colab": {
     "base_uri": "https://localhost:8080/"
    },
    "executionInfo": {
     "elapsed": 355,
     "status": "ok",
     "timestamp": 1631554292701,
     "user": {
      "displayName": "Utih AmarTiwi",
      "photoUrl": "https://lh3.googleusercontent.com/a-/AOh14GiR__QH-U6snVf7-GNYNmqWtbTcqJJmRDikacAbrA=s64",
      "userId": "12516595145765236433"
     },
     "user_tz": -420
    },
    "id": "Ay-3fo-sIOqV",
    "outputId": "d6350057-7e1a-4688-8567-93b0d2c162f6"
   },
   "outputs": [
    {
     "data": {
      "text/plain": [
       "array([1, 5, 6])"
      ]
     },
     "execution_count": 6,
     "metadata": {},
     "output_type": "execute_result"
    }
   ],
   "source": [
    "#Slicing\n",
    "a[1:]"
   ]
  },
  {
   "cell_type": "code",
   "execution_count": 7,
   "metadata": {
    "colab": {
     "base_uri": "https://localhost:8080/"
    },
    "executionInfo": {
     "elapsed": 335,
     "status": "ok",
     "timestamp": 1631554295134,
     "user": {
      "displayName": "Utih AmarTiwi",
      "photoUrl": "https://lh3.googleusercontent.com/a-/AOh14GiR__QH-U6snVf7-GNYNmqWtbTcqJJmRDikacAbrA=s64",
      "userId": "12516595145765236433"
     },
     "user_tz": -420
    },
    "id": "kfeTP-8qHBVx",
    "outputId": "b8c9f370-6997-44f3-f0dd-ef83affa82bc"
   },
   "outputs": [
    {
     "name": "stdout",
     "output_type": "stream",
     "text": [
      "a[1:3] =  [1 5]\n",
      "a[:3] =  [3 1 5]\n"
     ]
    }
   ],
   "source": [
    "print('a[1:3] = ', a[1:3])\n",
    "print('a[:3] = ', a[:3])"
   ]
  },
  {
   "cell_type": "code",
   "execution_count": 10,
   "metadata": {
    "colab": {
     "base_uri": "https://localhost:8080/"
    },
    "executionInfo": {
     "elapsed": 345,
     "status": "ok",
     "timestamp": 1631554299626,
     "user": {
      "displayName": "Utih AmarTiwi",
      "photoUrl": "https://lh3.googleusercontent.com/a-/AOh14GiR__QH-U6snVf7-GNYNmqWtbTcqJJmRDikacAbrA=s64",
      "userId": "12516595145765236433"
     },
     "user_tz": -420
    },
    "id": "myrQM61bHn2t",
    "outputId": "43140211-9609-4ede-b1b3-482e4a20d9c5"
   },
   "outputs": [
    {
     "name": "stdout",
     "output_type": "stream",
     "text": [
      "[[1 2 3]\n",
      " [4 5 6]\n",
      " [7 8 9]]\n"
     ]
    }
   ],
   "source": [
    "#2D Array (Matriks)\n",
    "A = np.array([[1, 2, 3], [4, 5, 6], [7, 8, 9]])\n",
    "print(A)"
   ]
  },
  {
   "cell_type": "markdown",
   "metadata": {
    "id": "7LxTP-IdLaSa"
   },
   "source": [
    "###Latihan-2 (2D array)"
   ]
  },
  {
   "cell_type": "code",
   "execution_count": 8,
   "metadata": {
    "colab": {
     "base_uri": "https://localhost:8080/"
    },
    "id": "2ncKwccePLyf",
    "outputId": "c73e8465-ef8a-4f47-bef0-d40dd70dd6c0"
   },
   "outputs": [
    {
     "name": "stdout",
     "output_type": "stream",
     "text": [
      "banyaknya entry = \n",
      "dimensi array = \n",
      "ukuran array = \n"
     ]
    }
   ],
   "source": [
    "#Lengkapi kodingan berikut\n",
    "print('banyaknya entry = ', )\n",
    "print('dimensi array = ', )\n",
    "print('ukuran array = ', )"
   ]
  },
  {
   "cell_type": "code",
   "execution_count": 11,
   "metadata": {
    "colab": {
     "base_uri": "https://localhost:8080/"
    },
    "executionInfo": {
     "elapsed": 330,
     "status": "ok",
     "timestamp": 1631554317666,
     "user": {
      "displayName": "Utih AmarTiwi",
      "photoUrl": "https://lh3.googleusercontent.com/a-/AOh14GiR__QH-U6snVf7-GNYNmqWtbTcqJJmRDikacAbrA=s64",
      "userId": "12516595145765236433"
     },
     "user_tz": -420
    },
    "id": "LAmNOJZYGrNY",
    "outputId": "440be1b1-97a7-4ba9-9513-a0a226e82888"
   },
   "outputs": [
    {
     "name": "stdout",
     "output_type": "stream",
     "text": [
      "baris ke-2 =  [4 5 6]\n",
      "entry ke-2 & 3 baris ke-2 =  [5 6]\n",
      "entry pertama & 2 kolom ke-2 =  [2 5]\n"
     ]
    }
   ],
   "source": [
    "#Slicing\n",
    "print('baris ke-2 = ', A[1])\n",
    "print('entry ke-2 & 3 baris ke-2 = ', A[1, 1:])\n",
    "print('entry pertama & 2 kolom ke-2 = ', A[:2, 1])"
   ]
  },
  {
   "cell_type": "markdown",
   "metadata": {
    "id": "dabJyOB3L6Kb"
   },
   "source": [
    "###Latihan-3 (Slicing)"
   ]
  },
  {
   "cell_type": "code",
   "execution_count": 12,
   "metadata": {
    "colab": {
     "base_uri": "https://localhost:8080/"
    },
    "id": "zm20sFkSNbds",
    "outputId": "7470e934-7d89-4f6a-bb44-ab9b8989c21b"
   },
   "outputs": [
    {
     "name": "stdout",
     "output_type": "stream",
     "text": [
      "baris ke-3 = \n",
      "entry ke-1 & 2 baris ke-3 = \n",
      "entry ke-2 & 3 kolom ke-3 = \n"
     ]
    }
   ],
   "source": [
    "#Lengkapi kodingan berikut\n",
    "print('baris ke-3 = ', )\n",
    "print('entry ke-1 & 2 baris ke-3 = ', )\n",
    "print('entry ke-2 & 3 kolom ke-3 = ', )"
   ]
  },
  {
   "cell_type": "markdown",
   "metadata": {
    "id": "u69Wt0HHOdDh"
   },
   "source": [
    "output jawaban:\n",
    "baris ke-3 =  [7 8 9]\n",
    "\n",
    "entry ke-1 & 2 baris ke-3 =  [7 8]\n",
    "\n",
    "entry ke-2 & 3 kolom ke-3 =  [6 9]"
   ]
  },
  {
   "cell_type": "markdown",
   "metadata": {
    "id": "bQ9RSERjQYu-"
   },
   "source": [
    "### Operasi Matematika di Numpy"
   ]
  },
  {
   "cell_type": "code",
   "execution_count": 13,
   "metadata": {
    "colab": {
     "base_uri": "https://localhost:8080/"
    },
    "executionInfo": {
     "elapsed": 342,
     "status": "ok",
     "timestamp": 1631554328180,
     "user": {
      "displayName": "Utih AmarTiwi",
      "photoUrl": "https://lh3.googleusercontent.com/a-/AOh14GiR__QH-U6snVf7-GNYNmqWtbTcqJJmRDikacAbrA=s64",
      "userId": "12516595145765236433"
     },
     "user_tz": -420
    },
    "id": "A7ITbltnVKCK",
    "outputId": "3f106b28-9d52-42e9-b5d7-4398d55b1d4c"
   },
   "outputs": [
    {
     "name": "stdout",
     "output_type": "stream",
     "text": [
      "perkalian antar entry = \n",
      "[[ 1  4  9]\n",
      " [16 25 36]\n",
      " [49 64 81]]\n"
     ]
    }
   ],
   "source": [
    "C = A*A\n",
    "print('perkalian antar entry = ')\n",
    "print(C)"
   ]
  },
  {
   "cell_type": "code",
   "execution_count": 14,
   "metadata": {
    "colab": {
     "base_uri": "https://localhost:8080/"
    },
    "executionInfo": {
     "elapsed": 24,
     "status": "ok",
     "timestamp": 1631554329890,
     "user": {
      "displayName": "Utih AmarTiwi",
      "photoUrl": "https://lh3.googleusercontent.com/a-/AOh14GiR__QH-U6snVf7-GNYNmqWtbTcqJJmRDikacAbrA=s64",
      "userId": "12516595145765236433"
     },
     "user_tz": -420
    },
    "id": "qs72ZsAJQERO",
    "outputId": "ce613356-c00a-4ef1-8b3e-87d287ad387d"
   },
   "outputs": [
    {
     "name": "stdout",
     "output_type": "stream",
     "text": [
      "perkalian matriks = \n",
      "[[ 30  36  42]\n",
      " [ 66  81  96]\n",
      " [102 126 150]]\n"
     ]
    }
   ],
   "source": [
    "print('perkalian matriks = ')\n",
    "print(np.matmul(A,A))"
   ]
  },
  {
   "cell_type": "markdown",
   "metadata": {
    "id": "DqYW2wD_8HZT"
   },
   "source": [
    "Bisa dilihat perbedaan perkalian antar entry dan perkalian matriks biasa?"
   ]
  },
  {
   "cell_type": "code",
   "execution_count": 15,
   "metadata": {
    "colab": {
     "base_uri": "https://localhost:8080/"
    },
    "executionInfo": {
     "elapsed": 465,
     "status": "ok",
     "timestamp": 1631554335234,
     "user": {
      "displayName": "Utih AmarTiwi",
      "photoUrl": "https://lh3.googleusercontent.com/a-/AOh14GiR__QH-U6snVf7-GNYNmqWtbTcqJJmRDikacAbrA=s64",
      "userId": "12516595145765236433"
     },
     "user_tz": -420
    },
    "id": "_esB0rtlQkOp",
    "outputId": "48e7e3e7-aa7f-4877-e612-7a9322995e09"
   },
   "outputs": [
    {
     "name": "stdout",
     "output_type": "stream",
     "text": [
      "determinan matriks A =  -9.51619735392994e-16\n",
      "determinan matriks C =  -216.00000000000006\n"
     ]
    }
   ],
   "source": [
    "print('determinan matriks A = ', np.linalg.det(A))\n",
    "print('determinan matriks C = ', np.linalg.det(C))"
   ]
  },
  {
   "cell_type": "code",
   "execution_count": 16,
   "metadata": {
    "colab": {
     "base_uri": "https://localhost:8080/"
    },
    "executionInfo": {
     "elapsed": 607,
     "status": "ok",
     "timestamp": 1631555025305,
     "user": {
      "displayName": "Utih AmarTiwi",
      "photoUrl": "https://lh3.googleusercontent.com/a-/AOh14GiR__QH-U6snVf7-GNYNmqWtbTcqJJmRDikacAbrA=s64",
      "userId": "12516595145765236433"
     },
     "user_tz": -420
    },
    "id": "Joz3Z61TQd6V",
    "outputId": "58145aa6-2fa2-4454-ce4b-83f0238edfce"
   },
   "outputs": [
    {
     "name": "stdout",
     "output_type": "stream",
     "text": [
      "nilai dan vektor eigen matriks A =  (array([ 1.61168440e+01, -1.11684397e+00, -3.38433605e-16]), array([[-0.23197069, -0.78583024,  0.40824829],\n",
      "       [-0.52532209, -0.08675134, -0.81649658],\n",
      "       [-0.8186735 ,  0.61232756,  0.40824829]]))\n"
     ]
    }
   ],
   "source": [
    "print('nilai dan vektor eigen matriks A = ', np.linalg.eig(A))"
   ]
  },
  {
   "cell_type": "code",
   "execution_count": 17,
   "metadata": {
    "colab": {
     "base_uri": "https://localhost:8080/"
    },
    "executionInfo": {
     "elapsed": 430,
     "status": "ok",
     "timestamp": 1631555001126,
     "user": {
      "displayName": "Utih AmarTiwi",
      "photoUrl": "https://lh3.googleusercontent.com/a-/AOh14GiR__QH-U6snVf7-GNYNmqWtbTcqJJmRDikacAbrA=s64",
      "userId": "12516595145765236433"
     },
     "user_tz": -420
    },
    "id": "YIXOE54OQWWd",
    "outputId": "9fb8ad29-9895-4d49-8f03-0090f6ce73d0"
   },
   "outputs": [
    {
     "name": "stdout",
     "output_type": "stream",
     "text": [
      "nilai eigen matriks A =  [ 1.61168440e+01 -1.11684397e+00 -3.38433605e-16]\n"
     ]
    }
   ],
   "source": [
    "print('nilai eigen matriks A = ', np.linalg.eig(A)[0])"
   ]
  },
  {
   "cell_type": "code",
   "execution_count": 18,
   "metadata": {
    "colab": {
     "base_uri": "https://localhost:8080/"
    },
    "executionInfo": {
     "elapsed": 334,
     "status": "ok",
     "timestamp": 1631555015873,
     "user": {
      "displayName": "Utih AmarTiwi",
      "photoUrl": "https://lh3.googleusercontent.com/a-/AOh14GiR__QH-U6snVf7-GNYNmqWtbTcqJJmRDikacAbrA=s64",
      "userId": "12516595145765236433"
     },
     "user_tz": -420
    },
    "id": "FjdAWfgKQaf1",
    "outputId": "b1e82274-282d-4eff-b43e-46dfb3d7c2ce"
   },
   "outputs": [
    {
     "name": "stdout",
     "output_type": "stream",
     "text": [
      "vektor eigen matriks A =  [[-0.23197069 -0.78583024  0.40824829]\n",
      " [-0.52532209 -0.08675134 -0.81649658]\n",
      " [-0.8186735   0.61232756  0.40824829]]\n"
     ]
    }
   ],
   "source": [
    "print('vektor eigen matriks A = ', np.linalg.eig(A)[1])"
   ]
  },
  {
   "cell_type": "markdown",
   "metadata": {
    "id": "kjS8YZLAMXB_"
   },
   "source": [
    "### Latihan-4 (Operasi matriks)"
   ]
  },
  {
   "cell_type": "code",
   "execution_count": 19,
   "metadata": {
    "id": "RIH4ROFmGuip"
   },
   "outputs": [],
   "source": [
    "A = np.array([[1, 2], [7,8]])\n",
    "B = np.array([[3, 5], [1,6]])"
   ]
  },
  {
   "cell_type": "markdown",
   "metadata": {
    "id": "dj6lY65jLBqx"
   },
   "source": [
    "Hitunglah:\n",
    "*   2*A\n",
    "*   2+A\n",
    "*   A+B\n",
    "*   A-B\n",
    "*   determinan A\n",
    "*   invers dari B, simpan jadi matriks D\n",
    "*   transpose D\n",
    "*   nilai eigen dan vektor eigen dari A dan B\n",
    "\n",
    "\n",
    "\n",
    "\n",
    "\n"
   ]
  },
  {
   "cell_type": "code",
   "execution_count": 20,
   "metadata": {},
   "outputs": [
    {
     "name": "stdout",
     "output_type": "stream",
     "text": [
      "nilai dari 2*A adalah  [[ 2  4]\n",
      " [14 16]]\n",
      "nilai dari 2+A adalah  [[5 7]\n",
      " [3 8]]\n",
      "nilai dari A+B adalah  [[ 4  7]\n",
      " [ 8 14]]\n",
      "nilai dari determinan A adalah  -6.0\n",
      "nilai dari matriks D adalah  [[ 0.46153846 -0.38461538]\n",
      " [-0.07692308  0.23076923]]\n",
      "nilai dari transpose D adalah  [[ 0.46153846 -0.07692308]\n",
      " [-0.38461538  0.23076923]]\n",
      "nilai dari eigen dan vektor eigen A adalah (array([-0.62347538,  9.62347538]), array([[-0.77640358, -0.22592838],\n",
      "       [ 0.63023605, -0.97414391]])) dan B adalah (array([1.8074176, 7.1925824]), array([[-0.97271381, -0.76626443],\n",
      "       [ 0.23200828, -0.64252535]]))\n"
     ]
    }
   ],
   "source": [
    "#Tunjukkan jawabanmu disini\n",
    "determinan_A = np.linalg.det(A)\n",
    "matriks_D = np.linalg.inv(B)\n",
    "transpose_D = np.transpose(matriks_D)\n",
    "eigen_value_A = np.linalg.eig(A)\n",
    "eigen_value_B = np.linalg.eig(B)\n",
    "\n",
    "print(\"nilai dari 2*A adalah \", 2*A)\n",
    "print(\"nilai dari 2+A adalah \", 2+B)\n",
    "print(\"nilai dari A+B adalah \", A+B)\n",
    "print(\"nilai dari determinan A adalah \", determinan_A)\n",
    "print(\"nilai dari matriks D adalah \", matriks_D)\n",
    "print(\"nilai dari transpose D adalah \", transpose_D)\n",
    "print(f\"nilai dari eigen dan vektor eigen A adalah {eigen_value_A} dan B adalah {eigen_value_B}\")"
   ]
  },
  {
   "cell_type": "markdown",
   "metadata": {
    "id": "7NwMsWC-MQgG"
   },
   "source": [
    "Apa perbedaan dari B*D (perkalian antar entry di B dan D) dan BD (perkalian matriks B dan D)? "
   ]
  },
  {
   "cell_type": "code",
   "execution_count": 21,
   "metadata": {
    "id": "0_PrzTpUMgQ8"
   },
   "outputs": [
    {
     "name": "stdout",
     "output_type": "stream",
     "text": [
      "perkalian B*D adalah [[ 1.38461538 -1.92307692]\n",
      " [-0.07692308  1.38461538]]\n",
      "perkalian BD adalah [[ 1.00000000e+00 -5.55111512e-17]\n",
      " [-5.55111512e-17  1.00000000e+00]]\n"
     ]
    }
   ],
   "source": [
    "#Tunjukkan bedanya di kodingan di bawah\n",
    "print(\"perkalian B*D adalah\", B*matriks_D)\n",
    "print(\"perkalian BD adalah\", np.matmul(B, matriks_D))"
   ]
  },
  {
   "cell_type": "markdown",
   "metadata": {
    "id": "633JPFjMTk3Y"
   },
   "source": [
    "output jawaban: \n",
    "\n",
    "perkalian entry = [[ 1.38461538, -1.92307692], [-0.07692308,  1.38461538]]\n",
    "\n",
    "perkalian matriks = [[ 1.00000000e+00, -1.11022302e-16],\n",
    "       [ 1.11022302e-16,  1.00000000e+00]]\n"
   ]
  },
  {
   "cell_type": "markdown",
   "metadata": {
    "id": "emE1XJjgyTML"
   },
   "source": [
    "## Pandas dan Statistik Deskriptif"
   ]
  },
  {
   "cell_type": "code",
   "execution_count": 22,
   "metadata": {
    "executionInfo": {
     "elapsed": 255,
     "status": "ok",
     "timestamp": 1631765719729,
     "user": {
      "displayName": "Utih Amartiwi",
      "photoUrl": "https://lh3.googleusercontent.com/a/default-user=s64",
      "userId": "10340241124216305303"
     },
     "user_tz": -420
    },
    "id": "LbUkdam20Luk"
   },
   "outputs": [],
   "source": [
    "import pandas as pd"
   ]
  },
  {
   "cell_type": "markdown",
   "metadata": {
    "id": "WA8wMETa0VCO"
   },
   "source": [
    "### Mengenal DataFrame"
   ]
  },
  {
   "cell_type": "code",
   "execution_count": 23,
   "metadata": {
    "colab": {
     "base_uri": "https://localhost:8080/",
     "height": 142
    },
    "executionInfo": {
     "elapsed": 19,
     "status": "ok",
     "timestamp": 1631554357012,
     "user": {
      "displayName": "Utih AmarTiwi",
      "photoUrl": "https://lh3.googleusercontent.com/a-/AOh14GiR__QH-U6snVf7-GNYNmqWtbTcqJJmRDikacAbrA=s64",
      "userId": "12516595145765236433"
     },
     "user_tz": -420
    },
    "id": "zeMEfrs6yOj_",
    "outputId": "47c8f39c-c1ac-459e-9525-0bbd9fcd9c40"
   },
   "outputs": [
    {
     "data": {
      "text/html": [
       "<div>\n",
       "<style scoped>\n",
       "    .dataframe tbody tr th:only-of-type {\n",
       "        vertical-align: middle;\n",
       "    }\n",
       "\n",
       "    .dataframe tbody tr th {\n",
       "        vertical-align: top;\n",
       "    }\n",
       "\n",
       "    .dataframe thead th {\n",
       "        text-align: right;\n",
       "    }\n",
       "</style>\n",
       "<table border=\"1\" class=\"dataframe\">\n",
       "  <thead>\n",
       "    <tr style=\"text-align: right;\">\n",
       "      <th></th>\n",
       "      <th>a</th>\n",
       "      <th>b</th>\n",
       "      <th>c</th>\n",
       "    </tr>\n",
       "  </thead>\n",
       "  <tbody>\n",
       "    <tr>\n",
       "      <th>0</th>\n",
       "      <td>1</td>\n",
       "      <td>2</td>\n",
       "      <td>3</td>\n",
       "    </tr>\n",
       "    <tr>\n",
       "      <th>1</th>\n",
       "      <td>4</td>\n",
       "      <td>5</td>\n",
       "      <td>6</td>\n",
       "    </tr>\n",
       "    <tr>\n",
       "      <th>2</th>\n",
       "      <td>7</td>\n",
       "      <td>8</td>\n",
       "      <td>9</td>\n",
       "    </tr>\n",
       "  </tbody>\n",
       "</table>\n",
       "</div>"
      ],
      "text/plain": [
       "   a  b  c\n",
       "0  1  2  3\n",
       "1  4  5  6\n",
       "2  7  8  9"
      ]
     },
     "execution_count": 23,
     "metadata": {},
     "output_type": "execute_result"
    }
   ],
   "source": [
    "#Dari Array\n",
    "df1 = pd.DataFrame(np.array([[1, 2, 3], [4, 5, 6], [7, 8, 9]]), columns=['a', 'b', 'c'])\n",
    "df1"
   ]
  },
  {
   "cell_type": "code",
   "execution_count": 24,
   "metadata": {
    "colab": {
     "base_uri": "https://localhost:8080/",
     "height": 142
    },
    "executionInfo": {
     "elapsed": 310,
     "status": "ok",
     "timestamp": 1631554362329,
     "user": {
      "displayName": "Utih AmarTiwi",
      "photoUrl": "https://lh3.googleusercontent.com/a-/AOh14GiR__QH-U6snVf7-GNYNmqWtbTcqJJmRDikacAbrA=s64",
      "userId": "12516595145765236433"
     },
     "user_tz": -420
    },
    "id": "vOxPCBpazyKO",
    "outputId": "e0178df6-a22d-474f-9b7f-bc607510f990"
   },
   "outputs": [
    {
     "data": {
      "text/html": [
       "<div>\n",
       "<style scoped>\n",
       "    .dataframe tbody tr th:only-of-type {\n",
       "        vertical-align: middle;\n",
       "    }\n",
       "\n",
       "    .dataframe tbody tr th {\n",
       "        vertical-align: top;\n",
       "    }\n",
       "\n",
       "    .dataframe thead th {\n",
       "        text-align: right;\n",
       "    }\n",
       "</style>\n",
       "<table border=\"1\" class=\"dataframe\">\n",
       "  <thead>\n",
       "    <tr style=\"text-align: right;\">\n",
       "      <th></th>\n",
       "      <th>a</th>\n",
       "      <th>b</th>\n",
       "      <th>c</th>\n",
       "    </tr>\n",
       "  </thead>\n",
       "  <tbody>\n",
       "    <tr>\n",
       "      <th>0</th>\n",
       "      <td>1</td>\n",
       "      <td>4</td>\n",
       "      <td>7</td>\n",
       "    </tr>\n",
       "    <tr>\n",
       "      <th>1</th>\n",
       "      <td>2</td>\n",
       "      <td>5</td>\n",
       "      <td>8</td>\n",
       "    </tr>\n",
       "    <tr>\n",
       "      <th>2</th>\n",
       "      <td>3</td>\n",
       "      <td>6</td>\n",
       "      <td>9</td>\n",
       "    </tr>\n",
       "  </tbody>\n",
       "</table>\n",
       "</div>"
      ],
      "text/plain": [
       "   a  b  c\n",
       "0  1  4  7\n",
       "1  2  5  8\n",
       "2  3  6  9"
      ]
     },
     "execution_count": 24,
     "metadata": {},
     "output_type": "execute_result"
    }
   ],
   "source": [
    "#Dari dictionary\n",
    "df2=pd.DataFrame({'a': [1,2,3], 'b': [4,5,6], 'c': [7, 8, 9]})\n",
    "df2"
   ]
  },
  {
   "cell_type": "code",
   "execution_count": 25,
   "metadata": {
    "colab": {
     "base_uri": "https://localhost:8080/",
     "height": 142
    },
    "executionInfo": {
     "elapsed": 350,
     "status": "ok",
     "timestamp": 1631554373600,
     "user": {
      "displayName": "Utih AmarTiwi",
      "photoUrl": "https://lh3.googleusercontent.com/a-/AOh14GiR__QH-U6snVf7-GNYNmqWtbTcqJJmRDikacAbrA=s64",
      "userId": "12516595145765236433"
     },
     "user_tz": -420
    },
    "id": "SNZmiYTfz_2r",
    "outputId": "4397c635-6d01-4b6f-845f-493401370a4b"
   },
   "outputs": [
    {
     "data": {
      "text/html": [
       "<div>\n",
       "<style scoped>\n",
       "    .dataframe tbody tr th:only-of-type {\n",
       "        vertical-align: middle;\n",
       "    }\n",
       "\n",
       "    .dataframe tbody tr th {\n",
       "        vertical-align: top;\n",
       "    }\n",
       "\n",
       "    .dataframe thead th {\n",
       "        text-align: right;\n",
       "    }\n",
       "</style>\n",
       "<table border=\"1\" class=\"dataframe\">\n",
       "  <thead>\n",
       "    <tr style=\"text-align: right;\">\n",
       "      <th></th>\n",
       "      <th>a</th>\n",
       "      <th>b</th>\n",
       "      <th>c</th>\n",
       "      <th>d</th>\n",
       "    </tr>\n",
       "  </thead>\n",
       "  <tbody>\n",
       "    <tr>\n",
       "      <th>0</th>\n",
       "      <td>1</td>\n",
       "      <td>2</td>\n",
       "      <td>3</td>\n",
       "      <td>3</td>\n",
       "    </tr>\n",
       "    <tr>\n",
       "      <th>1</th>\n",
       "      <td>4</td>\n",
       "      <td>5</td>\n",
       "      <td>6</td>\n",
       "      <td>5</td>\n",
       "    </tr>\n",
       "    <tr>\n",
       "      <th>2</th>\n",
       "      <td>7</td>\n",
       "      <td>8</td>\n",
       "      <td>9</td>\n",
       "      <td>6</td>\n",
       "    </tr>\n",
       "  </tbody>\n",
       "</table>\n",
       "</div>"
      ],
      "text/plain": [
       "   a  b  c  d\n",
       "0  1  2  3  3\n",
       "1  4  5  6  5\n",
       "2  7  8  9  6"
      ]
     },
     "execution_count": 25,
     "metadata": {},
     "output_type": "execute_result"
    }
   ],
   "source": [
    "#Menambahkan kolom baru\n",
    "df1['d'] = [3, 5, 6]\n",
    "df1"
   ]
  },
  {
   "cell_type": "code",
   "execution_count": 26,
   "metadata": {
    "id": "KXyPuM_OOHFa"
   },
   "outputs": [],
   "source": [
    "#Menyimpan dataframe ke csv file\n",
    "df1.to_csv('latihan/df1.csv')"
   ]
  },
  {
   "cell_type": "code",
   "execution_count": 27,
   "metadata": {
    "colab": {
     "base_uri": "https://localhost:8080/",
     "height": 142
    },
    "executionInfo": {
     "elapsed": 351,
     "status": "ok",
     "timestamp": 1631554503993,
     "user": {
      "displayName": "Utih AmarTiwi",
      "photoUrl": "https://lh3.googleusercontent.com/a-/AOh14GiR__QH-U6snVf7-GNYNmqWtbTcqJJmRDikacAbrA=s64",
      "userId": "12516595145765236433"
     },
     "user_tz": -420
    },
    "id": "zV0QN-471Jri",
    "outputId": "42d32c35-0098-4aea-f093-61db6294a515"
   },
   "outputs": [
    {
     "data": {
      "text/html": [
       "<div>\n",
       "<style scoped>\n",
       "    .dataframe tbody tr th:only-of-type {\n",
       "        vertical-align: middle;\n",
       "    }\n",
       "\n",
       "    .dataframe tbody tr th {\n",
       "        vertical-align: top;\n",
       "    }\n",
       "\n",
       "    .dataframe thead th {\n",
       "        text-align: right;\n",
       "    }\n",
       "</style>\n",
       "<table border=\"1\" class=\"dataframe\">\n",
       "  <thead>\n",
       "    <tr style=\"text-align: right;\">\n",
       "      <th></th>\n",
       "      <th>a</th>\n",
       "      <th>d</th>\n",
       "    </tr>\n",
       "  </thead>\n",
       "  <tbody>\n",
       "    <tr>\n",
       "      <th>0</th>\n",
       "      <td>1</td>\n",
       "      <td>3</td>\n",
       "    </tr>\n",
       "    <tr>\n",
       "      <th>1</th>\n",
       "      <td>4</td>\n",
       "      <td>5</td>\n",
       "    </tr>\n",
       "    <tr>\n",
       "      <th>2</th>\n",
       "      <td>7</td>\n",
       "      <td>6</td>\n",
       "    </tr>\n",
       "  </tbody>\n",
       "</table>\n",
       "</div>"
      ],
      "text/plain": [
       "   a  d\n",
       "0  1  3\n",
       "1  4  5\n",
       "2  7  6"
      ]
     },
     "execution_count": 27,
     "metadata": {},
     "output_type": "execute_result"
    }
   ],
   "source": [
    "#Mengambil kolom tertentu: \n",
    "df3 = df1[['a','d']]\n",
    "df3"
   ]
  },
  {
   "cell_type": "code",
   "execution_count": 28,
   "metadata": {
    "colab": {
     "base_uri": "https://localhost:8080/",
     "height": 111
    },
    "executionInfo": {
     "elapsed": 317,
     "status": "ok",
     "timestamp": 1631554662313,
     "user": {
      "displayName": "Utih AmarTiwi",
      "photoUrl": "https://lh3.googleusercontent.com/a-/AOh14GiR__QH-U6snVf7-GNYNmqWtbTcqJJmRDikacAbrA=s64",
      "userId": "12516595145765236433"
     },
     "user_tz": -420
    },
    "id": "w_AovvMd1gHV",
    "outputId": "dc0e060f-090c-417b-d9e8-c96366826bb6"
   },
   "outputs": [
    {
     "data": {
      "text/html": [
       "<div>\n",
       "<style scoped>\n",
       "    .dataframe tbody tr th:only-of-type {\n",
       "        vertical-align: middle;\n",
       "    }\n",
       "\n",
       "    .dataframe tbody tr th {\n",
       "        vertical-align: top;\n",
       "    }\n",
       "\n",
       "    .dataframe thead th {\n",
       "        text-align: right;\n",
       "    }\n",
       "</style>\n",
       "<table border=\"1\" class=\"dataframe\">\n",
       "  <thead>\n",
       "    <tr style=\"text-align: right;\">\n",
       "      <th></th>\n",
       "      <th>a</th>\n",
       "      <th>b</th>\n",
       "      <th>c</th>\n",
       "      <th>d</th>\n",
       "    </tr>\n",
       "  </thead>\n",
       "  <tbody>\n",
       "    <tr>\n",
       "      <th>1</th>\n",
       "      <td>4</td>\n",
       "      <td>5</td>\n",
       "      <td>6</td>\n",
       "      <td>5</td>\n",
       "    </tr>\n",
       "    <tr>\n",
       "      <th>2</th>\n",
       "      <td>7</td>\n",
       "      <td>8</td>\n",
       "      <td>9</td>\n",
       "      <td>6</td>\n",
       "    </tr>\n",
       "  </tbody>\n",
       "</table>\n",
       "</div>"
      ],
      "text/plain": [
       "   a  b  c  d\n",
       "1  4  5  6  5\n",
       "2  7  8  9  6"
      ]
     },
     "execution_count": 28,
     "metadata": {},
     "output_type": "execute_result"
    }
   ],
   "source": [
    "#Mengambil sebagian data berdasarkan entrynya\n",
    "df4a = df1[df1['a']>2] #df1 yang df1['a']>2\n",
    "df4a"
   ]
  },
  {
   "cell_type": "code",
   "execution_count": 29,
   "metadata": {
    "colab": {
     "base_uri": "https://localhost:8080/",
     "height": 80
    },
    "executionInfo": {
     "elapsed": 307,
     "status": "ok",
     "timestamp": 1631554666866,
     "user": {
      "displayName": "Utih AmarTiwi",
      "photoUrl": "https://lh3.googleusercontent.com/a-/AOh14GiR__QH-U6snVf7-GNYNmqWtbTcqJJmRDikacAbrA=s64",
      "userId": "12516595145765236433"
     },
     "user_tz": -420
    },
    "id": "J6REVPcjO3XR",
    "outputId": "00156644-ef1d-4834-a5fc-5dc375f0a718"
   },
   "outputs": [
    {
     "data": {
      "text/html": [
       "<div>\n",
       "<style scoped>\n",
       "    .dataframe tbody tr th:only-of-type {\n",
       "        vertical-align: middle;\n",
       "    }\n",
       "\n",
       "    .dataframe tbody tr th {\n",
       "        vertical-align: top;\n",
       "    }\n",
       "\n",
       "    .dataframe thead th {\n",
       "        text-align: right;\n",
       "    }\n",
       "</style>\n",
       "<table border=\"1\" class=\"dataframe\">\n",
       "  <thead>\n",
       "    <tr style=\"text-align: right;\">\n",
       "      <th></th>\n",
       "      <th>a</th>\n",
       "      <th>b</th>\n",
       "      <th>c</th>\n",
       "      <th>d</th>\n",
       "    </tr>\n",
       "  </thead>\n",
       "  <tbody>\n",
       "    <tr>\n",
       "      <th>1</th>\n",
       "      <td>4</td>\n",
       "      <td>5</td>\n",
       "      <td>6</td>\n",
       "      <td>5</td>\n",
       "    </tr>\n",
       "  </tbody>\n",
       "</table>\n",
       "</div>"
      ],
      "text/plain": [
       "   a  b  c  d\n",
       "1  4  5  6  5"
      ]
     },
     "execution_count": 29,
     "metadata": {},
     "output_type": "execute_result"
    }
   ],
   "source": [
    "df4b = df1[df1['a']==4] #df1 yang df1['a']=4\n",
    "df4b"
   ]
  },
  {
   "cell_type": "code",
   "execution_count": 30,
   "metadata": {
    "colab": {
     "base_uri": "https://localhost:8080/",
     "height": 111
    },
    "executionInfo": {
     "elapsed": 318,
     "status": "ok",
     "timestamp": 1631554675385,
     "user": {
      "displayName": "Utih AmarTiwi",
      "photoUrl": "https://lh3.googleusercontent.com/a-/AOh14GiR__QH-U6snVf7-GNYNmqWtbTcqJJmRDikacAbrA=s64",
      "userId": "12516595145765236433"
     },
     "user_tz": -420
    },
    "id": "eQZK_ddv2LnV",
    "outputId": "2f2a3191-02fe-44bf-debf-c67cfdfbdd6b"
   },
   "outputs": [
    {
     "data": {
      "text/html": [
       "<div>\n",
       "<style scoped>\n",
       "    .dataframe tbody tr th:only-of-type {\n",
       "        vertical-align: middle;\n",
       "    }\n",
       "\n",
       "    .dataframe tbody tr th {\n",
       "        vertical-align: top;\n",
       "    }\n",
       "\n",
       "    .dataframe thead th {\n",
       "        text-align: right;\n",
       "    }\n",
       "</style>\n",
       "<table border=\"1\" class=\"dataframe\">\n",
       "  <thead>\n",
       "    <tr style=\"text-align: right;\">\n",
       "      <th></th>\n",
       "      <th>a</th>\n",
       "      <th>b</th>\n",
       "      <th>c</th>\n",
       "    </tr>\n",
       "  </thead>\n",
       "  <tbody>\n",
       "    <tr>\n",
       "      <th>0</th>\n",
       "      <td>1</td>\n",
       "      <td>2</td>\n",
       "      <td>3</td>\n",
       "    </tr>\n",
       "    <tr>\n",
       "      <th>1</th>\n",
       "      <td>4</td>\n",
       "      <td>5</td>\n",
       "      <td>6</td>\n",
       "    </tr>\n",
       "  </tbody>\n",
       "</table>\n",
       "</div>"
      ],
      "text/plain": [
       "   a  b  c\n",
       "0  1  2  3\n",
       "1  4  5  6"
      ]
     },
     "execution_count": 30,
     "metadata": {},
     "output_type": "execute_result"
    }
   ],
   "source": [
    "#Mengambil sebagian data berdasarkan indexnya\n",
    "df5 = df1.iloc[0:2, 0:3]\n",
    "df5"
   ]
  },
  {
   "cell_type": "markdown",
   "metadata": {
    "id": "oQtNPAVe4cVH"
   },
   "source": [
    "### Mengimport data ke DataFrame"
   ]
  },
  {
   "cell_type": "code",
   "execution_count": 31,
   "metadata": {
    "colab": {
     "base_uri": "https://localhost:8080/",
     "height": 419
    },
    "executionInfo": {
     "elapsed": 806,
     "status": "ok",
     "timestamp": 1631765733857,
     "user": {
      "displayName": "Utih Amartiwi",
      "photoUrl": "https://lh3.googleusercontent.com/a/default-user=s64",
      "userId": "10340241124216305303"
     },
     "user_tz": -420
    },
    "id": "O507C0Zg2f3t",
    "outputId": "a119c4ba-12f8-4089-dd93-3128fb3ea0a4"
   },
   "outputs": [
    {
     "data": {
      "text/html": [
       "<div>\n",
       "<style scoped>\n",
       "    .dataframe tbody tr th:only-of-type {\n",
       "        vertical-align: middle;\n",
       "    }\n",
       "\n",
       "    .dataframe tbody tr th {\n",
       "        vertical-align: top;\n",
       "    }\n",
       "\n",
       "    .dataframe thead th {\n",
       "        text-align: right;\n",
       "    }\n",
       "</style>\n",
       "<table border=\"1\" class=\"dataframe\">\n",
       "  <thead>\n",
       "    <tr style=\"text-align: right;\">\n",
       "      <th></th>\n",
       "      <th>Sex</th>\n",
       "      <th>\"Weight (Sep)\"</th>\n",
       "      <th>\"Weight (Apr)\"</th>\n",
       "      <th>\"BMI (Sep)\"</th>\n",
       "      <th>\"BMI (Apr)\"</th>\n",
       "    </tr>\n",
       "  </thead>\n",
       "  <tbody>\n",
       "    <tr>\n",
       "      <th>0</th>\n",
       "      <td>M</td>\n",
       "      <td>72</td>\n",
       "      <td>59</td>\n",
       "      <td>22.02</td>\n",
       "      <td>18.14</td>\n",
       "    </tr>\n",
       "    <tr>\n",
       "      <th>1</th>\n",
       "      <td>M</td>\n",
       "      <td>97</td>\n",
       "      <td>86</td>\n",
       "      <td>19.70</td>\n",
       "      <td>17.44</td>\n",
       "    </tr>\n",
       "    <tr>\n",
       "      <th>2</th>\n",
       "      <td>M</td>\n",
       "      <td>74</td>\n",
       "      <td>69</td>\n",
       "      <td>24.09</td>\n",
       "      <td>22.43</td>\n",
       "    </tr>\n",
       "    <tr>\n",
       "      <th>3</th>\n",
       "      <td>M</td>\n",
       "      <td>93</td>\n",
       "      <td>88</td>\n",
       "      <td>26.97</td>\n",
       "      <td>25.57</td>\n",
       "    </tr>\n",
       "    <tr>\n",
       "      <th>4</th>\n",
       "      <td>F</td>\n",
       "      <td>68</td>\n",
       "      <td>64</td>\n",
       "      <td>21.51</td>\n",
       "      <td>20.10</td>\n",
       "    </tr>\n",
       "    <tr>\n",
       "      <th>...</th>\n",
       "      <td>...</td>\n",
       "      <td>...</td>\n",
       "      <td>...</td>\n",
       "      <td>...</td>\n",
       "      <td>...</td>\n",
       "    </tr>\n",
       "    <tr>\n",
       "      <th>62</th>\n",
       "      <td>M</td>\n",
       "      <td>65</td>\n",
       "      <td>71</td>\n",
       "      <td>22.51</td>\n",
       "      <td>24.45</td>\n",
       "    </tr>\n",
       "    <tr>\n",
       "      <th>63</th>\n",
       "      <td>M</td>\n",
       "      <td>75</td>\n",
       "      <td>82</td>\n",
       "      <td>23.69</td>\n",
       "      <td>25.80</td>\n",
       "    </tr>\n",
       "    <tr>\n",
       "      <th>64</th>\n",
       "      <td>F</td>\n",
       "      <td>42</td>\n",
       "      <td>49</td>\n",
       "      <td>15.08</td>\n",
       "      <td>17.74</td>\n",
       "    </tr>\n",
       "    <tr>\n",
       "      <th>65</th>\n",
       "      <td>M</td>\n",
       "      <td>74</td>\n",
       "      <td>82</td>\n",
       "      <td>22.64</td>\n",
       "      <td>25.33</td>\n",
       "    </tr>\n",
       "    <tr>\n",
       "      <th>66</th>\n",
       "      <td>M</td>\n",
       "      <td>94</td>\n",
       "      <td>105</td>\n",
       "      <td>36.57</td>\n",
       "      <td>40.86</td>\n",
       "    </tr>\n",
       "  </tbody>\n",
       "</table>\n",
       "<p>67 rows × 5 columns</p>\n",
       "</div>"
      ],
      "text/plain": [
       "   Sex   \"Weight (Sep)\"   \"Weight (Apr)\"   \"BMI (Sep)\"   \"BMI (Apr)\"\n",
       "0    M               72               59         22.02         18.14\n",
       "1    M               97               86         19.70         17.44\n",
       "2    M               74               69         24.09         22.43\n",
       "3    M               93               88         26.97         25.57\n",
       "4    F               68               64         21.51         20.10\n",
       "..  ..              ...              ...           ...           ...\n",
       "62   M               65               71         22.51         24.45\n",
       "63   M               75               82         23.69         25.80\n",
       "64   F               42               49         15.08         17.74\n",
       "65   M               74               82         22.64         25.33\n",
       "66   M               94              105         36.57         40.86\n",
       "\n",
       "[67 rows x 5 columns]"
      ]
     },
     "execution_count": 31,
     "metadata": {},
     "output_type": "execute_result"
    }
   ],
   "source": [
    "#Contoh mengimport dari web\n",
    "url = 'https://people.sc.fsu.edu/~jburkardt/data/csv/freshman_kgs.csv'\n",
    "df6 = pd.read_csv(url)\n",
    "\n",
    "df6"
   ]
  },
  {
   "cell_type": "code",
   "execution_count": 32,
   "metadata": {
    "colab": {
     "base_uri": "https://localhost:8080/",
     "height": 204
    },
    "id": "_vANo60lC4Nn",
    "outputId": "2cd2149c-2f2c-48f6-efb4-9f33978d4e56"
   },
   "outputs": [
    {
     "data": {
      "text/html": [
       "<div>\n",
       "<style scoped>\n",
       "    .dataframe tbody tr th:only-of-type {\n",
       "        vertical-align: middle;\n",
       "    }\n",
       "\n",
       "    .dataframe tbody tr th {\n",
       "        vertical-align: top;\n",
       "    }\n",
       "\n",
       "    .dataframe thead th {\n",
       "        text-align: right;\n",
       "    }\n",
       "</style>\n",
       "<table border=\"1\" class=\"dataframe\">\n",
       "  <thead>\n",
       "    <tr style=\"text-align: right;\">\n",
       "      <th></th>\n",
       "      <th>Sex</th>\n",
       "      <th>\"Weight (Sep)\"</th>\n",
       "      <th>\"Weight (Apr)\"</th>\n",
       "      <th>\"BMI (Sep)\"</th>\n",
       "      <th>\"BMI (Apr)\"</th>\n",
       "    </tr>\n",
       "  </thead>\n",
       "  <tbody>\n",
       "    <tr>\n",
       "      <th>0</th>\n",
       "      <td>M</td>\n",
       "      <td>72</td>\n",
       "      <td>59</td>\n",
       "      <td>22.02</td>\n",
       "      <td>18.14</td>\n",
       "    </tr>\n",
       "    <tr>\n",
       "      <th>1</th>\n",
       "      <td>M</td>\n",
       "      <td>97</td>\n",
       "      <td>86</td>\n",
       "      <td>19.70</td>\n",
       "      <td>17.44</td>\n",
       "    </tr>\n",
       "    <tr>\n",
       "      <th>2</th>\n",
       "      <td>M</td>\n",
       "      <td>74</td>\n",
       "      <td>69</td>\n",
       "      <td>24.09</td>\n",
       "      <td>22.43</td>\n",
       "    </tr>\n",
       "    <tr>\n",
       "      <th>3</th>\n",
       "      <td>M</td>\n",
       "      <td>93</td>\n",
       "      <td>88</td>\n",
       "      <td>26.97</td>\n",
       "      <td>25.57</td>\n",
       "    </tr>\n",
       "    <tr>\n",
       "      <th>4</th>\n",
       "      <td>F</td>\n",
       "      <td>68</td>\n",
       "      <td>64</td>\n",
       "      <td>21.51</td>\n",
       "      <td>20.10</td>\n",
       "    </tr>\n",
       "  </tbody>\n",
       "</table>\n",
       "</div>"
      ],
      "text/plain": [
       "  Sex   \"Weight (Sep)\"   \"Weight (Apr)\"   \"BMI (Sep)\"   \"BMI (Apr)\"\n",
       "0   M               72               59         22.02         18.14\n",
       "1   M               97               86         19.70         17.44\n",
       "2   M               74               69         24.09         22.43\n",
       "3   M               93               88         26.97         25.57\n",
       "4   F               68               64         21.51         20.10"
      ]
     },
     "execution_count": 32,
     "metadata": {},
     "output_type": "execute_result"
    }
   ],
   "source": [
    "#5 data teratas\n",
    "df6.head()"
   ]
  },
  {
   "cell_type": "markdown",
   "metadata": {
    "id": "VncYiRCo8f3m"
   },
   "source": [
    "### Membuat deskriptif"
   ]
  },
  {
   "cell_type": "code",
   "execution_count": 33,
   "metadata": {
    "colab": {
     "base_uri": "https://localhost:8080/",
     "height": 297
    },
    "id": "cRvrFniE8etF",
    "outputId": "deaa0794-b423-46c3-efc6-6953129b448b",
    "scrolled": true
   },
   "outputs": [
    {
     "data": {
      "text/html": [
       "<div>\n",
       "<style scoped>\n",
       "    .dataframe tbody tr th:only-of-type {\n",
       "        vertical-align: middle;\n",
       "    }\n",
       "\n",
       "    .dataframe tbody tr th {\n",
       "        vertical-align: top;\n",
       "    }\n",
       "\n",
       "    .dataframe thead th {\n",
       "        text-align: right;\n",
       "    }\n",
       "</style>\n",
       "<table border=\"1\" class=\"dataframe\">\n",
       "  <thead>\n",
       "    <tr style=\"text-align: right;\">\n",
       "      <th></th>\n",
       "      <th>\"Weight (Sep)\"</th>\n",
       "      <th>\"Weight (Apr)\"</th>\n",
       "      <th>\"BMI (Sep)\"</th>\n",
       "      <th>\"BMI (Apr)\"</th>\n",
       "    </tr>\n",
       "  </thead>\n",
       "  <tbody>\n",
       "    <tr>\n",
       "      <th>count</th>\n",
       "      <td>67.000000</td>\n",
       "      <td>67.000000</td>\n",
       "      <td>67.000000</td>\n",
       "      <td>67.000000</td>\n",
       "    </tr>\n",
       "    <tr>\n",
       "      <th>mean</th>\n",
       "      <td>65.059701</td>\n",
       "      <td>66.238806</td>\n",
       "      <td>22.030000</td>\n",
       "      <td>22.484179</td>\n",
       "    </tr>\n",
       "    <tr>\n",
       "      <th>std</th>\n",
       "      <td>11.285390</td>\n",
       "      <td>11.284327</td>\n",
       "      <td>3.308901</td>\n",
       "      <td>3.602527</td>\n",
       "    </tr>\n",
       "    <tr>\n",
       "      <th>min</th>\n",
       "      <td>42.000000</td>\n",
       "      <td>47.000000</td>\n",
       "      <td>15.080000</td>\n",
       "      <td>16.890000</td>\n",
       "    </tr>\n",
       "    <tr>\n",
       "      <th>25%</th>\n",
       "      <td>56.500000</td>\n",
       "      <td>58.000000</td>\n",
       "      <td>19.965000</td>\n",
       "      <td>20.230000</td>\n",
       "    </tr>\n",
       "    <tr>\n",
       "      <th>50%</th>\n",
       "      <td>64.000000</td>\n",
       "      <td>66.000000</td>\n",
       "      <td>21.730000</td>\n",
       "      <td>22.310000</td>\n",
       "    </tr>\n",
       "    <tr>\n",
       "      <th>75%</th>\n",
       "      <td>70.500000</td>\n",
       "      <td>70.000000</td>\n",
       "      <td>23.160000</td>\n",
       "      <td>23.860000</td>\n",
       "    </tr>\n",
       "    <tr>\n",
       "      <th>max</th>\n",
       "      <td>97.000000</td>\n",
       "      <td>105.000000</td>\n",
       "      <td>36.570000</td>\n",
       "      <td>40.860000</td>\n",
       "    </tr>\n",
       "  </tbody>\n",
       "</table>\n",
       "</div>"
      ],
      "text/plain": [
       "        \"Weight (Sep)\"   \"Weight (Apr)\"   \"BMI (Sep)\"   \"BMI (Apr)\"\n",
       "count        67.000000        67.000000     67.000000     67.000000\n",
       "mean         65.059701        66.238806     22.030000     22.484179\n",
       "std          11.285390        11.284327      3.308901      3.602527\n",
       "min          42.000000        47.000000     15.080000     16.890000\n",
       "25%          56.500000        58.000000     19.965000     20.230000\n",
       "50%          64.000000        66.000000     21.730000     22.310000\n",
       "75%          70.500000        70.000000     23.160000     23.860000\n",
       "max          97.000000       105.000000     36.570000     40.860000"
      ]
     },
     "execution_count": 33,
     "metadata": {},
     "output_type": "execute_result"
    }
   ],
   "source": [
    "#DataNumerik\n",
    "df6.describe()"
   ]
  },
  {
   "cell_type": "code",
   "execution_count": 34,
   "metadata": {
    "colab": {
     "base_uri": "https://localhost:8080/",
     "height": 366
    },
    "id": "zmdLGchV8uuU",
    "outputId": "363bb375-6c38-4299-89a2-c938f2ee1e3b"
   },
   "outputs": [
    {
     "data": {
      "text/plain": [
       "array([[<AxesSubplot:title={'center':' \"Weight (Sep)\"'}>,\n",
       "        <AxesSubplot:title={'center':' \"Weight (Apr)\"'}>],\n",
       "       [<AxesSubplot:title={'center':' \"BMI (Sep)\"'}>,\n",
       "        <AxesSubplot:title={'center':' \"BMI (Apr)\"'}>]], dtype=object)"
      ]
     },
     "execution_count": 34,
     "metadata": {},
     "output_type": "execute_result"
    },
    {
     "data": {
      "image/png": "[encoded data removed]",
      "text/plain": [
       "<Figure size 432x288 with 4 Axes>"
      ]
     },
     "metadata": {
      "needs_background": "light"
     },
     "output_type": "display_data"
    }
   ],
   "source": [
    "df6.hist()"
   ]
  },
  {
   "cell_type": "code",
   "execution_count": 35,
   "metadata": {
    "colab": {
     "base_uri": "https://localhost:8080/",
     "height": 173
    },
    "id": "t4AclPYb81C3",
    "outputId": "6f65410c-e934-45ff-941e-01ccaa20378a",
    "scrolled": true
   },
   "outputs": [
    {
     "data": {
      "text/html": [
       "<div>\n",
       "<style scoped>\n",
       "    .dataframe tbody tr th:only-of-type {\n",
       "        vertical-align: middle;\n",
       "    }\n",
       "\n",
       "    .dataframe tbody tr th {\n",
       "        vertical-align: top;\n",
       "    }\n",
       "\n",
       "    .dataframe thead th {\n",
       "        text-align: right;\n",
       "    }\n",
       "</style>\n",
       "<table border=\"1\" class=\"dataframe\">\n",
       "  <thead>\n",
       "    <tr style=\"text-align: right;\">\n",
       "      <th></th>\n",
       "      <th>Sex</th>\n",
       "    </tr>\n",
       "  </thead>\n",
       "  <tbody>\n",
       "    <tr>\n",
       "      <th>count</th>\n",
       "      <td>67</td>\n",
       "    </tr>\n",
       "    <tr>\n",
       "      <th>unique</th>\n",
       "      <td>2</td>\n",
       "    </tr>\n",
       "    <tr>\n",
       "      <th>top</th>\n",
       "      <td>F</td>\n",
       "    </tr>\n",
       "    <tr>\n",
       "      <th>freq</th>\n",
       "      <td>35</td>\n",
       "    </tr>\n",
       "  </tbody>\n",
       "</table>\n",
       "</div>"
      ],
      "text/plain": [
       "       Sex\n",
       "count   67\n",
       "unique   2\n",
       "top      F\n",
       "freq    35"
      ]
     },
     "execution_count": 35,
     "metadata": {},
     "output_type": "execute_result"
    }
   ],
   "source": [
    "#data non-numerik\n",
    "df6.describe(include=[\"object\", \"bool\"]) "
   ]
  },
  {
   "cell_type": "code",
   "execution_count": 51,
   "metadata": {
    "colab": {
     "base_uri": "https://localhost:8080/"
    },
    "id": "3pHZDA8d6o-r",
    "outputId": "5a4807af-8e10-4777-b5d9-b9929d7c334d"
   },
   "outputs": [
    {
     "data": {
      "text/plain": [
       "Index(['Sex', ' \"Weight (Sep)\"', ' \"Weight (Apr)\"', ' \"BMI (Sep)\"',\n",
       "       ' \"BMI (Apr)\"'],\n",
       "      dtype='object')"
      ]
     },
     "execution_count": 51,
     "metadata": {},
     "output_type": "execute_result"
    }
   ],
   "source": [
    "#List nama kolom\n",
    "df6.columns"
   ]
  },
  {
   "cell_type": "markdown",
   "metadata": {
    "id": "W_fSI7xFDNmo"
   },
   "source": [
    "Untuk memudahkan saat kita butuh menuliskan nama kolomnya, bisa langsung copas agar sesuai formatnya (misalnya huruf besar/kecil, dll)"
   ]
  },
  {
   "cell_type": "markdown",
   "metadata": {
    "id": "vdWlI9_l59k-"
   },
   "source": [
    "### Latihan-5 (mengambil sebagian data)\n",
    "Buat kodingan untuk memilih data yang perempuan saja"
   ]
  },
  {
   "cell_type": "code",
   "execution_count": 86,
   "metadata": {
    "colab": {
     "base_uri": "https://localhost:8080/",
     "height": 1000
    },
    "id": "b669Ar295lNf",
    "outputId": "f5443b3b-1de8-40fa-e4e9-d968f53c9437",
    "scrolled": true
   },
   "outputs": [
    {
     "data": {
      "text/html": [
       "<div>\n",
       "<style scoped>\n",
       "    .dataframe tbody tr th:only-of-type {\n",
       "        vertical-align: middle;\n",
       "    }\n",
       "\n",
       "    .dataframe tbody tr th {\n",
       "        vertical-align: top;\n",
       "    }\n",
       "\n",
       "    .dataframe thead th {\n",
       "        text-align: right;\n",
       "    }\n",
       "</style>\n",
       "<table border=\"1\" class=\"dataframe\">\n",
       "  <thead>\n",
       "    <tr style=\"text-align: right;\">\n",
       "      <th></th>\n",
       "      <th>Sex</th>\n",
       "    </tr>\n",
       "  </thead>\n",
       "  <tbody>\n",
       "    <tr>\n",
       "      <th>0</th>\n",
       "      <td>M</td>\n",
       "    </tr>\n",
       "    <tr>\n",
       "      <th>1</th>\n",
       "      <td>M</td>\n",
       "    </tr>\n",
       "    <tr>\n",
       "      <th>2</th>\n",
       "      <td>M</td>\n",
       "    </tr>\n",
       "    <tr>\n",
       "      <th>3</th>\n",
       "      <td>M</td>\n",
       "    </tr>\n",
       "    <tr>\n",
       "      <th>4</th>\n",
       "      <td>F</td>\n",
       "    </tr>\n",
       "    <tr>\n",
       "      <th>...</th>\n",
       "      <td>...</td>\n",
       "    </tr>\n",
       "    <tr>\n",
       "      <th>62</th>\n",
       "      <td>M</td>\n",
       "    </tr>\n",
       "    <tr>\n",
       "      <th>63</th>\n",
       "      <td>M</td>\n",
       "    </tr>\n",
       "    <tr>\n",
       "      <th>64</th>\n",
       "      <td>F</td>\n",
       "    </tr>\n",
       "    <tr>\n",
       "      <th>65</th>\n",
       "      <td>M</td>\n",
       "    </tr>\n",
       "    <tr>\n",
       "      <th>66</th>\n",
       "      <td>M</td>\n",
       "    </tr>\n",
       "  </tbody>\n",
       "</table>\n",
       "<p>67 rows × 1 columns</p>\n",
       "</div>"
      ],
      "text/plain": [
       "   Sex\n",
       "0    M\n",
       "1    M\n",
       "2    M\n",
       "3    M\n",
       "4    F\n",
       "..  ..\n",
       "62   M\n",
       "63   M\n",
       "64   F\n",
       "65   M\n",
       "66   M\n",
       "\n",
       "[67 rows x 1 columns]"
      ]
     },
     "execution_count": 86,
     "metadata": {},
     "output_type": "execute_result"
    }
   ],
   "source": [
    "#Pilih data yang perempuan saja\n",
    "df6[['Sex']]"
   ]
  },
  {
   "cell_type": "code",
   "execution_count": 87,
   "metadata": {},
   "outputs": [
    {
     "data": {
      "text/plain": [
       "<pandas.core.groupby.generic.DataFrameGroupBy object at 0x000001E7EF20FD30>"
      ]
     },
     "execution_count": 87,
     "metadata": {},
     "output_type": "execute_result"
    }
   ],
   "source": [
    "df6.groupby('Sex')"
   ]
  },
  {
   "cell_type": "code",
   "execution_count": 88,
   "metadata": {},
   "outputs": [
    {
     "data": {
      "text/html": [
       "<div>\n",
       "<style scoped>\n",
       "    .dataframe tbody tr th:only-of-type {\n",
       "        vertical-align: middle;\n",
       "    }\n",
       "\n",
       "    .dataframe tbody tr th {\n",
       "        vertical-align: top;\n",
       "    }\n",
       "\n",
       "    .dataframe thead th {\n",
       "        text-align: right;\n",
       "    }\n",
       "</style>\n",
       "<table border=\"1\" class=\"dataframe\">\n",
       "  <thead>\n",
       "    <tr style=\"text-align: right;\">\n",
       "      <th></th>\n",
       "      <th>Sex</th>\n",
       "      <th>\"Weight (Sep)\"</th>\n",
       "      <th>\"Weight (Apr)\"</th>\n",
       "      <th>\"BMI (Sep)\"</th>\n",
       "      <th>\"BMI (Apr)\"</th>\n",
       "    </tr>\n",
       "  </thead>\n",
       "  <tbody>\n",
       "    <tr>\n",
       "      <th>4</th>\n",
       "      <td>F</td>\n",
       "      <td>68</td>\n",
       "      <td>64</td>\n",
       "      <td>21.51</td>\n",
       "      <td>20.10</td>\n",
       "    </tr>\n",
       "    <tr>\n",
       "      <th>6</th>\n",
       "      <td>F</td>\n",
       "      <td>64</td>\n",
       "      <td>60</td>\n",
       "      <td>24.24</td>\n",
       "      <td>22.88</td>\n",
       "    </tr>\n",
       "    <tr>\n",
       "      <th>7</th>\n",
       "      <td>F</td>\n",
       "      <td>56</td>\n",
       "      <td>53</td>\n",
       "      <td>21.23</td>\n",
       "      <td>20.23</td>\n",
       "    </tr>\n",
       "    <tr>\n",
       "      <th>8</th>\n",
       "      <td>F</td>\n",
       "      <td>70</td>\n",
       "      <td>68</td>\n",
       "      <td>30.26</td>\n",
       "      <td>29.24</td>\n",
       "    </tr>\n",
       "    <tr>\n",
       "      <th>9</th>\n",
       "      <td>F</td>\n",
       "      <td>58</td>\n",
       "      <td>56</td>\n",
       "      <td>21.88</td>\n",
       "      <td>21.02</td>\n",
       "    </tr>\n",
       "    <tr>\n",
       "      <th>10</th>\n",
       "      <td>F</td>\n",
       "      <td>50</td>\n",
       "      <td>47</td>\n",
       "      <td>17.63</td>\n",
       "      <td>16.89</td>\n",
       "    </tr>\n",
       "    <tr>\n",
       "      <th>13</th>\n",
       "      <td>F</td>\n",
       "      <td>56</td>\n",
       "      <td>55</td>\n",
       "      <td>20.97</td>\n",
       "      <td>20.36</td>\n",
       "    </tr>\n",
       "    <tr>\n",
       "      <th>14</th>\n",
       "      <td>F</td>\n",
       "      <td>70</td>\n",
       "      <td>68</td>\n",
       "      <td>27.30</td>\n",
       "      <td>26.73</td>\n",
       "    </tr>\n",
       "    <tr>\n",
       "      <th>15</th>\n",
       "      <td>F</td>\n",
       "      <td>61</td>\n",
       "      <td>60</td>\n",
       "      <td>23.30</td>\n",
       "      <td>22.88</td>\n",
       "    </tr>\n",
       "    <tr>\n",
       "      <th>16</th>\n",
       "      <td>F</td>\n",
       "      <td>53</td>\n",
       "      <td>52</td>\n",
       "      <td>19.48</td>\n",
       "      <td>19.24</td>\n",
       "    </tr>\n",
       "    <tr>\n",
       "      <th>18</th>\n",
       "      <td>F</td>\n",
       "      <td>57</td>\n",
       "      <td>58</td>\n",
       "      <td>20.69</td>\n",
       "      <td>20.79</td>\n",
       "    </tr>\n",
       "    <tr>\n",
       "      <th>20</th>\n",
       "      <td>F</td>\n",
       "      <td>58</td>\n",
       "      <td>58</td>\n",
       "      <td>21.09</td>\n",
       "      <td>21.24</td>\n",
       "    </tr>\n",
       "    <tr>\n",
       "      <th>21</th>\n",
       "      <td>F</td>\n",
       "      <td>49</td>\n",
       "      <td>50</td>\n",
       "      <td>18.37</td>\n",
       "      <td>18.53</td>\n",
       "    </tr>\n",
       "    <tr>\n",
       "      <th>23</th>\n",
       "      <td>F</td>\n",
       "      <td>69</td>\n",
       "      <td>69</td>\n",
       "      <td>28.17</td>\n",
       "      <td>28.43</td>\n",
       "    </tr>\n",
       "    <tr>\n",
       "      <th>27</th>\n",
       "      <td>F</td>\n",
       "      <td>52</td>\n",
       "      <td>53</td>\n",
       "      <td>19.31</td>\n",
       "      <td>19.75</td>\n",
       "    </tr>\n",
       "    <tr>\n",
       "      <th>29</th>\n",
       "      <td>F</td>\n",
       "      <td>63</td>\n",
       "      <td>64</td>\n",
       "      <td>21.78</td>\n",
       "      <td>22.22</td>\n",
       "    </tr>\n",
       "    <tr>\n",
       "      <th>30</th>\n",
       "      <td>F</td>\n",
       "      <td>56</td>\n",
       "      <td>57</td>\n",
       "      <td>19.78</td>\n",
       "      <td>20.23</td>\n",
       "    </tr>\n",
       "    <tr>\n",
       "      <th>33</th>\n",
       "      <td>F</td>\n",
       "      <td>54</td>\n",
       "      <td>56</td>\n",
       "      <td>20.15</td>\n",
       "      <td>20.69</td>\n",
       "    </tr>\n",
       "    <tr>\n",
       "      <th>36</th>\n",
       "      <td>F</td>\n",
       "      <td>57</td>\n",
       "      <td>59</td>\n",
       "      <td>22.15</td>\n",
       "      <td>22.93</td>\n",
       "    </tr>\n",
       "    <tr>\n",
       "      <th>37</th>\n",
       "      <td>F</td>\n",
       "      <td>63</td>\n",
       "      <td>65</td>\n",
       "      <td>23.87</td>\n",
       "      <td>24.67</td>\n",
       "    </tr>\n",
       "    <tr>\n",
       "      <th>38</th>\n",
       "      <td>F</td>\n",
       "      <td>54</td>\n",
       "      <td>56</td>\n",
       "      <td>18.61</td>\n",
       "      <td>19.34</td>\n",
       "    </tr>\n",
       "    <tr>\n",
       "      <th>39</th>\n",
       "      <td>F</td>\n",
       "      <td>56</td>\n",
       "      <td>58</td>\n",
       "      <td>21.73</td>\n",
       "      <td>22.58</td>\n",
       "    </tr>\n",
       "    <tr>\n",
       "      <th>43</th>\n",
       "      <td>F</td>\n",
       "      <td>63</td>\n",
       "      <td>66</td>\n",
       "      <td>21.89</td>\n",
       "      <td>22.79</td>\n",
       "    </tr>\n",
       "    <tr>\n",
       "      <th>44</th>\n",
       "      <td>F</td>\n",
       "      <td>51</td>\n",
       "      <td>54</td>\n",
       "      <td>18.31</td>\n",
       "      <td>19.28</td>\n",
       "    </tr>\n",
       "    <tr>\n",
       "      <th>45</th>\n",
       "      <td>F</td>\n",
       "      <td>59</td>\n",
       "      <td>62</td>\n",
       "      <td>19.64</td>\n",
       "      <td>20.63</td>\n",
       "    </tr>\n",
       "    <tr>\n",
       "      <th>46</th>\n",
       "      <td>F</td>\n",
       "      <td>65</td>\n",
       "      <td>68</td>\n",
       "      <td>23.02</td>\n",
       "      <td>24.10</td>\n",
       "    </tr>\n",
       "    <tr>\n",
       "      <th>47</th>\n",
       "      <td>F</td>\n",
       "      <td>53</td>\n",
       "      <td>56</td>\n",
       "      <td>20.63</td>\n",
       "      <td>21.91</td>\n",
       "    </tr>\n",
       "    <tr>\n",
       "      <th>48</th>\n",
       "      <td>F</td>\n",
       "      <td>62</td>\n",
       "      <td>65</td>\n",
       "      <td>22.61</td>\n",
       "      <td>23.81</td>\n",
       "    </tr>\n",
       "    <tr>\n",
       "      <th>49</th>\n",
       "      <td>F</td>\n",
       "      <td>55</td>\n",
       "      <td>58</td>\n",
       "      <td>22.03</td>\n",
       "      <td>23.42</td>\n",
       "    </tr>\n",
       "    <tr>\n",
       "      <th>54</th>\n",
       "      <td>F</td>\n",
       "      <td>57</td>\n",
       "      <td>61</td>\n",
       "      <td>23.47</td>\n",
       "      <td>25.11</td>\n",
       "    </tr>\n",
       "    <tr>\n",
       "      <th>55</th>\n",
       "      <td>F</td>\n",
       "      <td>64</td>\n",
       "      <td>68</td>\n",
       "      <td>22.84</td>\n",
       "      <td>24.29</td>\n",
       "    </tr>\n",
       "    <tr>\n",
       "      <th>56</th>\n",
       "      <td>F</td>\n",
       "      <td>60</td>\n",
       "      <td>64</td>\n",
       "      <td>19.50</td>\n",
       "      <td>20.90</td>\n",
       "    </tr>\n",
       "    <tr>\n",
       "      <th>59</th>\n",
       "      <td>F</td>\n",
       "      <td>52</td>\n",
       "      <td>57</td>\n",
       "      <td>17.72</td>\n",
       "      <td>19.42</td>\n",
       "    </tr>\n",
       "    <tr>\n",
       "      <th>61</th>\n",
       "      <td>F</td>\n",
       "      <td>55</td>\n",
       "      <td>60</td>\n",
       "      <td>21.64</td>\n",
       "      <td>23.81</td>\n",
       "    </tr>\n",
       "    <tr>\n",
       "      <th>64</th>\n",
       "      <td>F</td>\n",
       "      <td>42</td>\n",
       "      <td>49</td>\n",
       "      <td>15.08</td>\n",
       "      <td>17.74</td>\n",
       "    </tr>\n",
       "  </tbody>\n",
       "</table>\n",
       "</div>"
      ],
      "text/plain": [
       "   Sex   \"Weight (Sep)\"   \"Weight (Apr)\"   \"BMI (Sep)\"   \"BMI (Apr)\"\n",
       "4    F               68               64         21.51         20.10\n",
       "6    F               64               60         24.24         22.88\n",
       "7    F               56               53         21.23         20.23\n",
       "8    F               70               68         30.26         29.24\n",
       "9    F               58               56         21.88         21.02\n",
       "10   F               50               47         17.63         16.89\n",
       "13   F               56               55         20.97         20.36\n",
       "14   F               70               68         27.30         26.73\n",
       "15   F               61               60         23.30         22.88\n",
       "16   F               53               52         19.48         19.24\n",
       "18   F               57               58         20.69         20.79\n",
       "20   F               58               58         21.09         21.24\n",
       "21   F               49               50         18.37         18.53\n",
       "23   F               69               69         28.17         28.43\n",
       "27   F               52               53         19.31         19.75\n",
       "29   F               63               64         21.78         22.22\n",
       "30   F               56               57         19.78         20.23\n",
       "33   F               54               56         20.15         20.69\n",
       "36   F               57               59         22.15         22.93\n",
       "37   F               63               65         23.87         24.67\n",
       "38   F               54               56         18.61         19.34\n",
       "39   F               56               58         21.73         22.58\n",
       "43   F               63               66         21.89         22.79\n",
       "44   F               51               54         18.31         19.28\n",
       "45   F               59               62         19.64         20.63\n",
       "46   F               65               68         23.02         24.10\n",
       "47   F               53               56         20.63         21.91\n",
       "48   F               62               65         22.61         23.81\n",
       "49   F               55               58         22.03         23.42\n",
       "54   F               57               61         23.47         25.11\n",
       "55   F               64               68         22.84         24.29\n",
       "56   F               60               64         19.50         20.90\n",
       "59   F               52               57         17.72         19.42\n",
       "61   F               55               60         21.64         23.81\n",
       "64   F               42               49         15.08         17.74"
      ]
     },
     "execution_count": 88,
     "metadata": {},
     "output_type": "execute_result"
    }
   ],
   "source": [
    "df6.groupby('Sex').get_group('F')"
   ]
  },
  {
   "cell_type": "markdown",
   "metadata": {
    "id": "vXplXWBV-mA8"
   },
   "source": [
    "## Visualisasi Data"
   ]
  },
  {
   "cell_type": "markdown",
   "metadata": {
    "id": "6NobwuVw-v3k"
   },
   "source": [
    "### Dengan Matplotlib"
   ]
  },
  {
   "cell_type": "code",
   "execution_count": 68,
   "metadata": {
    "executionInfo": {
     "elapsed": 256,
     "status": "ok",
     "timestamp": 1631765747802,
     "user": {
      "displayName": "Utih Amartiwi",
      "photoUrl": "https://lh3.googleusercontent.com/a/default-user=s64",
      "userId": "10340241124216305303"
     },
     "user_tz": -420
    },
    "id": "aiQmw5bZDG4b"
   },
   "outputs": [],
   "source": [
    "import matplotlib.pyplot as plt"
   ]
  },
  {
   "cell_type": "code",
   "execution_count": 69,
   "metadata": {
    "colab": {
     "base_uri": "https://localhost:8080/",
     "height": 355
    },
    "executionInfo": {
     "elapsed": 701,
     "status": "ok",
     "timestamp": 1631554700477,
     "user": {
      "displayName": "Utih AmarTiwi",
      "photoUrl": "https://lh3.googleusercontent.com/a-/AOh14GiR__QH-U6snVf7-GNYNmqWtbTcqJJmRDikacAbrA=s64",
      "userId": "12516595145765236433"
     },
     "user_tz": -420
    },
    "id": "_G4GenFmDHph",
    "outputId": "243ec98e-84f4-4502-d5c8-5a5849d8e2f5"
   },
   "outputs": [
    {
     "data": {
      "image/png": "[encoded data removed]",
      "text/plain": [
       "<Figure size 720x360 with 1 Axes>"
      ]
     },
     "metadata": {
      "needs_background": "light"
     },
     "output_type": "display_data"
    }
   ],
   "source": [
    "#Line Chart\n",
    "df6[[' \"Weight (Sep)\"', ' \"BMI (Sep)\"']].plot(kind='line', \n",
    "             figsize=(10, 5))\n",
    "\n",
    "plt.title('Perbandingan berat dan BMI bulan september', fontsize = 20)\n",
    "plt.ylabel('nilai', fontsize = 10)\n",
    "plt.xlabel('peserta', fontsize = 10)\n",
    "\n",
    "plt.show()"
   ]
  },
  {
   "cell_type": "code",
   "execution_count": 70,
   "metadata": {
    "colab": {
     "base_uri": "https://localhost:8080/",
     "height": 409
    },
    "executionInfo": {
     "elapsed": 445,
     "status": "ok",
     "timestamp": 1631554706274,
     "user": {
      "displayName": "Utih AmarTiwi",
      "photoUrl": "https://lh3.googleusercontent.com/a-/AOh14GiR__QH-U6snVf7-GNYNmqWtbTcqJJmRDikacAbrA=s64",
      "userId": "12516595145765236433"
     },
     "user_tz": -420
    },
    "id": "l5YpGzJ4Laub",
    "outputId": "595b8178-36c9-4e59-8d88-28dfc31e85eb"
   },
   "outputs": [
    {
     "data": {
      "image/png": "[encoded data removed]",
      "text/plain": [
       "<Figure size 720x432 with 1 Axes>"
      ]
     },
     "metadata": {
      "needs_background": "light"
     },
     "output_type": "display_data"
    }
   ],
   "source": [
    "#ScatterPlot\n",
    "df6[[' \"Weight (Sep)\"', ' \"Weight (Apr)\"']].plot(kind='scatter', x=' \"Weight (Sep)\"', y=' \"Weight (Apr)\"', \n",
    "                                                 figsize=(10, 6), color='darkblue')\n",
    "\n",
    "plt.title('Hubungan berat badan bulan september dan april', fontsize = 20)\n",
    "plt.ylabel('April', fontsize = 10)\n",
    "plt.xlabel('September', fontsize = 10)\n",
    "\n",
    "plt.show()"
   ]
  },
  {
   "cell_type": "markdown",
   "metadata": {
    "id": "py8d7sL__JVC"
   },
   "source": [
    "Scatter plotnya seperti membentuk garis lurus miring kanan, artinya hubungan berat badan bulan april dan september erat dan positif (selengkapnya akan dipelajari di materi eksplorasi data)"
   ]
  },
  {
   "cell_type": "code",
   "execution_count": 71,
   "metadata": {
    "colab": {
     "base_uri": "https://localhost:8080/",
     "height": 350
    },
    "executionInfo": {
     "elapsed": 332,
     "status": "ok",
     "timestamp": 1631554713209,
     "user": {
      "displayName": "Utih AmarTiwi",
      "photoUrl": "https://lh3.googleusercontent.com/a-/AOh14GiR__QH-U6snVf7-GNYNmqWtbTcqJJmRDikacAbrA=s64",
      "userId": "12516595145765236433"
     },
     "user_tz": -420
    },
    "id": "6OW8qF9l-3GO",
    "outputId": "5dd08f3b-0818-4342-aa3c-54c7666bf2fc"
   },
   "outputs": [
    {
     "data": {
      "image/png": "[encoded data removed]",
      "text/plain": [
       "<Figure size 504x360 with 1 Axes>"
      ]
     },
     "metadata": {
      "needs_background": "light"
     },
     "output_type": "display_data"
    }
   ],
   "source": [
    "#Histogram\n",
    "df6[' \"Weight (Apr)\"'].plot(kind='hist', figsize=(7, 5))\n",
    "\n",
    "plt.title('Histogram dari berat badan bulan april')\n",
    "plt.ylabel('frequensi')\n",
    "plt.xlabel('berat')\n",
    "\n",
    "plt.show()"
   ]
  },
  {
   "cell_type": "code",
   "execution_count": 72,
   "metadata": {
    "colab": {
     "base_uri": "https://localhost:8080/",
     "height": 336
    },
    "executionInfo": {
     "elapsed": 307,
     "status": "ok",
     "timestamp": 1631554715069,
     "user": {
      "displayName": "Utih AmarTiwi",
      "photoUrl": "https://lh3.googleusercontent.com/a-/AOh14GiR__QH-U6snVf7-GNYNmqWtbTcqJJmRDikacAbrA=s64",
      "userId": "12516595145765236433"
     },
     "user_tz": -420
    },
    "id": "OFdFu9AsJ4ei",
    "outputId": "2ac35075-a260-4903-983f-0dc00685b984"
   },
   "outputs": [
    {
     "data": {
      "image/png": "[encoded data removed]",
      "text/plain": [
       "<Figure size 504x360 with 1 Axes>"
      ]
     },
     "metadata": {
      "needs_background": "light"
     },
     "output_type": "display_data"
    }
   ],
   "source": [
    "rata2berat_lk = df6[df6['Sex']=='M'][' \"Weight (Sep)\"'].mean()\n",
    "rata2berat_pr = df6[df6['Sex']=='F'][' \"Weight (Sep)\"'].mean()\n",
    "\n",
    "fig = plt.figure(figsize =(7, 5))\n",
    "plt.title('Bar Chart dari rata-rata berat badan Laki-laki dan Perempuan bulan September')\n",
    "berat = [rata2berat_lk, rata2berat_pr]\n",
    "bars = ('laki-laki', 'perempuan')\n",
    "kelompok = np.arange(len(bars))\n",
    "\n",
    "plt.bar(kelompok, berat)\n",
    "plt.xticks(kelompok, bars)\n",
    "\n",
    "plt.show()"
   ]
  },
  {
   "cell_type": "code",
   "execution_count": 73,
   "metadata": {
    "colab": {
     "base_uri": "https://localhost:8080/",
     "height": 303
    },
    "executionInfo": {
     "elapsed": 273,
     "status": "ok",
     "timestamp": 1631765780597,
     "user": {
      "displayName": "Utih Amartiwi",
      "photoUrl": "https://lh3.googleusercontent.com/a/default-user=s64",
      "userId": "10340241124216305303"
     },
     "user_tz": -420
    },
    "id": "ov4Tv--0NV7v",
    "outputId": "ab5aa041-4d4a-4dc4-ea72-ca7514985476"
   },
   "outputs": [
    {
     "data": {
      "image/png": "[encoded data removed]",
      "text/plain": [
       "<Figure size 504x360 with 1 Axes>"
      ]
     },
     "metadata": {},
     "output_type": "display_data"
    }
   ],
   "source": [
    "# Pie chart\n",
    "labels = 'Laki-laki', 'Perempuan'\n",
    "jlh_anggota = np.array([len(df6[df6['Sex'] == 'M']), len(df6[df6['Sex'] == 'F'])])\n",
    "colors = ['blue', 'pink']\n",
    "fig = plt.figure(figsize =(7, 5))\n",
    "plt.pie(jlh_anggota, labels = labels, colors=colors)\n",
    "plt.show()"
   ]
  },
  {
   "cell_type": "markdown",
   "metadata": {
    "id": "605babKcSl0c"
   },
   "source": [
    "### Dengan Seaborn"
   ]
  },
  {
   "cell_type": "code",
   "execution_count": 100,
   "metadata": {
    "id": "7L2EA6EXO-DS"
   },
   "outputs": [],
   "source": [
    "import seaborn as sns"
   ]
  },
  {
   "cell_type": "code",
   "execution_count": 101,
   "metadata": {
    "colab": {
     "base_uri": "https://localhost:8080/",
     "height": 284
    },
    "executionInfo": {
     "elapsed": 710,
     "status": "ok",
     "timestamp": 1631554741334,
     "user": {
      "displayName": "Utih AmarTiwi",
      "photoUrl": "https://lh3.googleusercontent.com/a-/AOh14GiR__QH-U6snVf7-GNYNmqWtbTcqJJmRDikacAbrA=s64",
      "userId": "12516595145765236433"
     },
     "user_tz": -420
    },
    "id": "rtfhQSerVEXB",
    "outputId": "b2b8997c-53cc-4f8e-919c-cdbcfaa48937"
   },
   "outputs": [
    {
     "data": {
      "text/plain": [
       "<AxesSubplot:>"
      ]
     },
     "execution_count": 101,
     "metadata": {},
     "output_type": "execute_result"
    },
    {
     "data": {
      "image/png": "[encoded data removed]",
      "text/plain": [
       "<Figure size 432x288 with 1 Axes>"
      ]
     },
     "metadata": {
      "needs_background": "light"
     },
     "output_type": "display_data"
    }
   ],
   "source": [
    "#LineChart\n",
    "sns.lineplot(data=df6[[' \"Weight (Sep)\"', ' \"BMI (Sep)\"']])"
   ]
  },
  {
   "cell_type": "code",
   "execution_count": 102,
   "metadata": {
    "colab": {
     "base_uri": "https://localhost:8080/",
     "height": 400
    },
    "executionInfo": {
     "elapsed": 456,
     "status": "ok",
     "timestamp": 1631554742662,
     "user": {
      "displayName": "Utih AmarTiwi",
      "photoUrl": "https://lh3.googleusercontent.com/a-/AOh14GiR__QH-U6snVf7-GNYNmqWtbTcqJJmRDikacAbrA=s64",
      "userId": "12516595145765236433"
     },
     "user_tz": -420
    },
    "id": "bnXKw0X3VblN",
    "outputId": "b2caca77-5488-41ba-c771-ff3a3730e4f5"
   },
   "outputs": [
    {
     "data": {
      "text/plain": [
       "<seaborn.axisgrid.FacetGrid at 0x1e7ef21da00>"
      ]
     },
     "execution_count": 102,
     "metadata": {},
     "output_type": "execute_result"
    },
    {
     "data": {
      "image/png": "[encoded data removed]",
      "text/plain": [
       "<Figure size 360x360 with 1 Axes>"
      ]
     },
     "metadata": {
      "needs_background": "light"
     },
     "output_type": "display_data"
    }
   ],
   "source": [
    "#ScatterPlot\n",
    "sns.relplot(x=' \"Weight (Sep)\"', y=' \"Weight (Apr)\"', data = df6)"
   ]
  },
  {
   "cell_type": "markdown",
   "metadata": {
    "id": "8E_3ApHG-qIC"
   },
   "source": [
    "Scatter plotnya seperti membentuk garis lurus miring kanan, artinya hubungan berat badan bulan april dan september erat dan positif (selengkapnya akan dipelajari di materi eksplorasi data)"
   ]
  },
  {
   "cell_type": "code",
   "execution_count": 103,
   "metadata": {
    "colab": {
     "base_uri": "https://localhost:8080/",
     "height": 386
    },
    "executionInfo": {
     "elapsed": 822,
     "status": "ok",
     "timestamp": 1631554744534,
     "user": {
      "displayName": "Utih AmarTiwi",
      "photoUrl": "https://lh3.googleusercontent.com/a-/AOh14GiR__QH-U6snVf7-GNYNmqWtbTcqJJmRDikacAbrA=s64",
      "userId": "12516595145765236433"
     },
     "user_tz": -420
    },
    "id": "ZXq1VYeVWl3b",
    "outputId": "6d9d4294-56e9-401d-fd26-5b90efd9c324"
   },
   "outputs": [
    {
     "data": {
      "text/plain": [
       "<seaborn.axisgrid.FacetGrid at 0x1e7ef40d4f0>"
      ]
     },
     "execution_count": 103,
     "metadata": {},
     "output_type": "execute_result"
    },
    {
     "data": {
      "image/png": "[encoded data removed]",
      "text/plain": [
       "<Figure size 404.625x360 with 1 Axes>"
      ]
     },
     "metadata": {
      "needs_background": "light"
     },
     "output_type": "display_data"
    }
   ],
   "source": [
    "#Histogram\n",
    "sns.displot(data=df6, x=' \"Weight (Apr)\"',hue=\"Sex\", kde=True)"
   ]
  },
  {
   "cell_type": "markdown",
   "metadata": {
    "id": "xR0rzImH-Zso"
   },
   "source": [
    "Terlihat data histogram per kategori laki-laki dan perempuan"
   ]
  },
  {
   "cell_type": "code",
   "execution_count": 104,
   "metadata": {
    "colab": {
     "base_uri": "https://localhost:8080/",
     "height": 296
    },
    "executionInfo": {
     "elapsed": 318,
     "status": "ok",
     "timestamp": 1631554757564,
     "user": {
      "displayName": "Utih AmarTiwi",
      "photoUrl": "https://lh3.googleusercontent.com/a-/AOh14GiR__QH-U6snVf7-GNYNmqWtbTcqJJmRDikacAbrA=s64",
      "userId": "12516595145765236433"
     },
     "user_tz": -420
    },
    "id": "ceZrdlroX9iG",
    "outputId": "4f2ad221-ef5a-445e-e26f-a3e2e0ad2071"
   },
   "outputs": [
    {
     "data": {
      "text/plain": [
       "<AxesSubplot:xlabel=' \"Weight (Apr)\"'>"
      ]
     },
     "execution_count": 104,
     "metadata": {},
     "output_type": "execute_result"
    },
    {
     "data": {
      "image/png": "[encoded data removed]",
      "text/plain": [
       "<Figure size 432x288 with 1 Axes>"
      ]
     },
     "metadata": {
      "needs_background": "light"
     },
     "output_type": "display_data"
    }
   ],
   "source": [
    "#boxplot\n",
    "sns.boxplot(data=df6, x=' \"Weight (Apr)\"')"
   ]
  },
  {
   "cell_type": "markdown",
   "metadata": {
    "id": "6ovdYy-C97ch"
   },
   "source": [
    "Terlihat ada outlier di bagian atas"
   ]
  },
  {
   "cell_type": "code",
   "execution_count": 105,
   "metadata": {
    "colab": {
     "base_uri": "https://localhost:8080/",
     "height": 400
    },
    "executionInfo": {
     "elapsed": 349,
     "status": "ok",
     "timestamp": 1631554762616,
     "user": {
      "displayName": "Utih AmarTiwi",
      "photoUrl": "https://lh3.googleusercontent.com/a-/AOh14GiR__QH-U6snVf7-GNYNmqWtbTcqJJmRDikacAbrA=s64",
      "userId": "12516595145765236433"
     },
     "user_tz": -420
    },
    "id": "deZlR5nPZndA",
    "outputId": "c1b77a8b-87f2-463d-9bb8-a1913a1f4a22"
   },
   "outputs": [
    {
     "data": {
      "text/plain": [
       "<seaborn.axisgrid.FacetGrid at 0x1e7ef3efd90>"
      ]
     },
     "execution_count": 105,
     "metadata": {},
     "output_type": "execute_result"
    },
    {
     "data": {
      "image/png": "[encoded data removed]",
      "text/plain": [
       "<Figure size 360x360 with 1 Axes>"
      ]
     },
     "metadata": {
      "needs_background": "light"
     },
     "output_type": "display_data"
    }
   ],
   "source": [
    "#Catplot\n",
    "sns.catplot(data=df6, x='Sex', y=' \"Weight (Apr)\"')"
   ]
  },
  {
   "cell_type": "markdown",
   "metadata": {
    "id": "DG0yiNxx-O9V"
   },
   "source": [
    "Sebaran data berat badan bulan april per kategori laki-laki dan perempuan"
   ]
  },
  {
   "cell_type": "code",
   "execution_count": 106,
   "metadata": {
    "colab": {
     "base_uri": "https://localhost:8080/",
     "height": 395
    },
    "executionInfo": {
     "elapsed": 343,
     "status": "ok",
     "timestamp": 1631554792910,
     "user": {
      "displayName": "Utih AmarTiwi",
      "photoUrl": "https://lh3.googleusercontent.com/a-/AOh14GiR__QH-U6snVf7-GNYNmqWtbTcqJJmRDikacAbrA=s64",
      "userId": "12516595145765236433"
     },
     "user_tz": -420
    },
    "id": "QZdj2rxDbpze",
    "outputId": "cc3e9db3-3de4-4d8b-e6d6-c30b61f26785"
   },
   "outputs": [
    {
     "data": {
      "text/plain": [
       "<AxesSubplot:>"
      ]
     },
     "execution_count": 106,
     "metadata": {},
     "output_type": "execute_result"
    },
    {
     "data": {
      "image/png": "[encoded data removed]",
      "text/plain": [
       "<Figure size 648x432 with 2 Axes>"
      ]
     },
     "metadata": {
      "needs_background": "light"
     },
     "output_type": "display_data"
    }
   ],
   "source": [
    "#HeatmapKorelasi\n",
    "corrmat = df6.corr()\n",
    "f, ax = plt.subplots(figsize=(9, 6))\n",
    "sns.heatmap(corrmat, vmax=1)"
   ]
  },
  {
   "cell_type": "markdown",
   "metadata": {
    "id": "1PbfvIND9tlJ"
   },
   "source": [
    "Warna merepresentasikan keeratan hubungan, bisa diliat di nilai hubungan/korelasinya bisa dilihat di penggaris sebelahnya"
   ]
  },
  {
   "cell_type": "markdown",
   "metadata": {
    "id": "DHsEXxrbcYxH"
   },
   "source": [
    "### Latihan-6 (Visualisasi data)\n",
    "\n",
    "Gunakan data dari: https://people.sc.fsu.edu/~jburkardt/data/csv/cities.csv\n",
    "\n",
    "Cari:\n",
    "*   Deskriptif data\n",
    "*   beberapa visualisasi datanya\n"
   ]
  }
 ],
 "metadata": {
  "colab": {
   "collapsed_sections": [
    "WA8wMETa0VCO",
    "oQtNPAVe4cVH",
    "VncYiRCo8f3m",
    "6NobwuVw-v3k",
    "605babKcSl0c"
   ],
   "name": "AI_dengan_Python(pengenalan).ipynb",
   "provenance": []
  },
  "kernelspec": {
   "display_name": "Python 3",
   "language": "python",
   "name": "python3"
  },
  "language_info": {
   "codemirror_mode": {
    "name": "ipython",
    "version": 3
   },
   "file_extension": ".py",
   "mimetype": "text/x-python",
   "name": "python",
   "nbconvert_exporter": "python",
   "pygments_lexer": "ipython3",
   "version": "3.8.8"
  }
 },
 "nbformat": 4,
 "nbformat_minor": 1
}
